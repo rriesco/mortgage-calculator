{
 "cells": [
  {
   "cell_type": "code",
   "execution_count": 1,
   "id": "36d04a77",
   "metadata": {},
   "outputs": [],
   "source": [
    "%load_ext autoreload\n",
    "%autoreload 2\n"
   ]
  },
  {
   "cell_type": "code",
   "execution_count": 2,
   "id": "d04ce57f",
   "metadata": {},
   "outputs": [],
   "source": [
    "from MortgageClass import MortgageCalculator"
   ]
  },
  {
   "cell_type": "code",
   "execution_count": 3,
   "id": "93043041",
   "metadata": {},
   "outputs": [],
   "source": [
    "house_price = 425000\n",
    "down_payment = 70000\n",
    "interest_rate = 1.8\n",
    "loan_term_years = 30\n",
    "cost = 2000\n",
    "taxes = 6\n"
   ]
  },
  {
   "cell_type": "code",
   "execution_count": 4,
   "id": "fe3884de",
   "metadata": {},
   "outputs": [
    {
     "data": {
      "text/html": [
       "<div>\n",
       "<style scoped>\n",
       "    .dataframe tbody tr th:only-of-type {\n",
       "        vertical-align: middle;\n",
       "    }\n",
       "\n",
       "    .dataframe tbody tr th {\n",
       "        vertical-align: top;\n",
       "    }\n",
       "\n",
       "    .dataframe thead th {\n",
       "        text-align: right;\n",
       "    }\n",
       "</style>\n",
       "<table border=\"1\" class=\"dataframe\">\n",
       "  <thead>\n",
       "    <tr style=\"text-align: right;\">\n",
       "      <th></th>\n",
       "      <th>Payment Number</th>\n",
       "      <th>Monthly Payment</th>\n",
       "      <th>Total Payment</th>\n",
       "      <th>Regular Amortization</th>\n",
       "      <th>Additional Amortization</th>\n",
       "      <th>Total Amortization</th>\n",
       "      <th>Amortization Type</th>\n",
       "      <th>Interest</th>\n",
       "      <th>Remaining Balance</th>\n",
       "      <th>Accrued Interest</th>\n",
       "      <th>Remaining Months</th>\n",
       "      <th>Remaining Balance (after payment)</th>\n",
       "    </tr>\n",
       "  </thead>\n",
       "  <tbody>\n",
       "    <tr>\n",
       "      <th>0</th>\n",
       "      <td>1</td>\n",
       "      <td>1383.04</td>\n",
       "      <td>1383.04</td>\n",
       "      <td>806.29</td>\n",
       "      <td>0</td>\n",
       "      <td>806.29</td>\n",
       "      <td>0</td>\n",
       "      <td>576.75</td>\n",
       "      <td>383693.71</td>\n",
       "      <td>576.75</td>\n",
       "      <td>359</td>\n",
       "      <td>383693.71</td>\n",
       "    </tr>\n",
       "    <tr>\n",
       "      <th>1</th>\n",
       "      <td>2</td>\n",
       "      <td>1383.04</td>\n",
       "      <td>1383.04</td>\n",
       "      <td>807.50</td>\n",
       "      <td>0</td>\n",
       "      <td>807.50</td>\n",
       "      <td>0</td>\n",
       "      <td>575.54</td>\n",
       "      <td>382886.21</td>\n",
       "      <td>1152.29</td>\n",
       "      <td>358</td>\n",
       "      <td>382886.21</td>\n",
       "    </tr>\n",
       "    <tr>\n",
       "      <th>2</th>\n",
       "      <td>3</td>\n",
       "      <td>1383.04</td>\n",
       "      <td>1383.04</td>\n",
       "      <td>808.71</td>\n",
       "      <td>0</td>\n",
       "      <td>808.71</td>\n",
       "      <td>0</td>\n",
       "      <td>574.33</td>\n",
       "      <td>382077.50</td>\n",
       "      <td>1726.62</td>\n",
       "      <td>357</td>\n",
       "      <td>382077.50</td>\n",
       "    </tr>\n",
       "    <tr>\n",
       "      <th>3</th>\n",
       "      <td>4</td>\n",
       "      <td>1383.04</td>\n",
       "      <td>1383.04</td>\n",
       "      <td>809.92</td>\n",
       "      <td>0</td>\n",
       "      <td>809.92</td>\n",
       "      <td>0</td>\n",
       "      <td>573.12</td>\n",
       "      <td>381267.57</td>\n",
       "      <td>2299.74</td>\n",
       "      <td>356</td>\n",
       "      <td>381267.57</td>\n",
       "    </tr>\n",
       "    <tr>\n",
       "      <th>4</th>\n",
       "      <td>5</td>\n",
       "      <td>1383.04</td>\n",
       "      <td>1383.04</td>\n",
       "      <td>811.14</td>\n",
       "      <td>0</td>\n",
       "      <td>811.14</td>\n",
       "      <td>0</td>\n",
       "      <td>571.90</td>\n",
       "      <td>380456.43</td>\n",
       "      <td>2871.64</td>\n",
       "      <td>355</td>\n",
       "      <td>380456.43</td>\n",
       "    </tr>\n",
       "    <tr>\n",
       "      <th>...</th>\n",
       "      <td>...</td>\n",
       "      <td>...</td>\n",
       "      <td>...</td>\n",
       "      <td>...</td>\n",
       "      <td>...</td>\n",
       "      <td>...</td>\n",
       "      <td>...</td>\n",
       "      <td>...</td>\n",
       "      <td>...</td>\n",
       "      <td>...</td>\n",
       "      <td>...</td>\n",
       "      <td>...</td>\n",
       "    </tr>\n",
       "    <tr>\n",
       "      <th>355</th>\n",
       "      <td>356</td>\n",
       "      <td>1383.04</td>\n",
       "      <td>1383.04</td>\n",
       "      <td>1372.71</td>\n",
       "      <td>0</td>\n",
       "      <td>1372.71</td>\n",
       "      <td>0</td>\n",
       "      <td>10.33</td>\n",
       "      <td>5511.48</td>\n",
       "      <td>113373.97</td>\n",
       "      <td>4</td>\n",
       "      <td>5511.48</td>\n",
       "    </tr>\n",
       "    <tr>\n",
       "      <th>356</th>\n",
       "      <td>357</td>\n",
       "      <td>1383.04</td>\n",
       "      <td>1383.04</td>\n",
       "      <td>1374.77</td>\n",
       "      <td>0</td>\n",
       "      <td>1374.77</td>\n",
       "      <td>0</td>\n",
       "      <td>8.27</td>\n",
       "      <td>4136.71</td>\n",
       "      <td>113382.24</td>\n",
       "      <td>3</td>\n",
       "      <td>4136.71</td>\n",
       "    </tr>\n",
       "    <tr>\n",
       "      <th>357</th>\n",
       "      <td>358</td>\n",
       "      <td>1383.04</td>\n",
       "      <td>1383.04</td>\n",
       "      <td>1376.84</td>\n",
       "      <td>0</td>\n",
       "      <td>1376.84</td>\n",
       "      <td>0</td>\n",
       "      <td>6.21</td>\n",
       "      <td>2759.87</td>\n",
       "      <td>113388.45</td>\n",
       "      <td>2</td>\n",
       "      <td>2759.87</td>\n",
       "    </tr>\n",
       "    <tr>\n",
       "      <th>358</th>\n",
       "      <td>359</td>\n",
       "      <td>1383.04</td>\n",
       "      <td>1383.04</td>\n",
       "      <td>1378.90</td>\n",
       "      <td>0</td>\n",
       "      <td>1378.90</td>\n",
       "      <td>0</td>\n",
       "      <td>4.14</td>\n",
       "      <td>1380.97</td>\n",
       "      <td>113392.59</td>\n",
       "      <td>1</td>\n",
       "      <td>1380.97</td>\n",
       "    </tr>\n",
       "    <tr>\n",
       "      <th>359</th>\n",
       "      <td>360</td>\n",
       "      <td>1383.04</td>\n",
       "      <td>1383.04</td>\n",
       "      <td>1380.97</td>\n",
       "      <td>0</td>\n",
       "      <td>1380.97</td>\n",
       "      <td>0</td>\n",
       "      <td>2.07</td>\n",
       "      <td>0.00</td>\n",
       "      <td>113394.66</td>\n",
       "      <td>0</td>\n",
       "      <td>0.00</td>\n",
       "    </tr>\n",
       "  </tbody>\n",
       "</table>\n",
       "<p>360 rows × 12 columns</p>\n",
       "</div>"
      ],
      "text/plain": [
       "     Payment Number  Monthly Payment  Total Payment  Regular Amortization  \\\n",
       "0                 1          1383.04        1383.04                806.29   \n",
       "1                 2          1383.04        1383.04                807.50   \n",
       "2                 3          1383.04        1383.04                808.71   \n",
       "3                 4          1383.04        1383.04                809.92   \n",
       "4                 5          1383.04        1383.04                811.14   \n",
       "..              ...              ...            ...                   ...   \n",
       "355             356          1383.04        1383.04               1372.71   \n",
       "356             357          1383.04        1383.04               1374.77   \n",
       "357             358          1383.04        1383.04               1376.84   \n",
       "358             359          1383.04        1383.04               1378.90   \n",
       "359             360          1383.04        1383.04               1380.97   \n",
       "\n",
       "     Additional Amortization  Total Amortization  Amortization Type  Interest  \\\n",
       "0                          0              806.29                  0    576.75   \n",
       "1                          0              807.50                  0    575.54   \n",
       "2                          0              808.71                  0    574.33   \n",
       "3                          0              809.92                  0    573.12   \n",
       "4                          0              811.14                  0    571.90   \n",
       "..                       ...                 ...                ...       ...   \n",
       "355                        0             1372.71                  0     10.33   \n",
       "356                        0             1374.77                  0      8.27   \n",
       "357                        0             1376.84                  0      6.21   \n",
       "358                        0             1378.90                  0      4.14   \n",
       "359                        0             1380.97                  0      2.07   \n",
       "\n",
       "     Remaining Balance  Accrued Interest  Remaining Months  \\\n",
       "0            383693.71            576.75               359   \n",
       "1            382886.21           1152.29               358   \n",
       "2            382077.50           1726.62               357   \n",
       "3            381267.57           2299.74               356   \n",
       "4            380456.43           2871.64               355   \n",
       "..                 ...               ...               ...   \n",
       "355            5511.48         113373.97                 4   \n",
       "356            4136.71         113382.24                 3   \n",
       "357            2759.87         113388.45                 2   \n",
       "358            1380.97         113392.59                 1   \n",
       "359               0.00         113394.66                 0   \n",
       "\n",
       "     Remaining Balance (after payment)  \n",
       "0                            383693.71  \n",
       "1                            382886.21  \n",
       "2                            382077.50  \n",
       "3                            381267.57  \n",
       "4                            380456.43  \n",
       "..                                 ...  \n",
       "355                            5511.48  \n",
       "356                            4136.71  \n",
       "357                            2759.87  \n",
       "358                            1380.97  \n",
       "359                               0.00  \n",
       "\n",
       "[360 rows x 12 columns]"
      ]
     },
     "execution_count": 4,
     "metadata": {},
     "output_type": "execute_result"
    }
   ],
   "source": [
    "mortage = MortgageCalculator(house_price, down_payment, interest_rate, loan_term_years, cost, taxes)\n",
    "mortage.run()\n",
    "mortage.get_amortization_schedule()"
   ]
  },
  {
   "cell_type": "code",
   "execution_count": 5,
   "id": "5f93b00d",
   "metadata": {},
   "outputs": [
    {
     "data": {
      "text/html": [
       "<div>\n",
       "<style scoped>\n",
       "    .dataframe tbody tr th:only-of-type {\n",
       "        vertical-align: middle;\n",
       "    }\n",
       "\n",
       "    .dataframe tbody tr th {\n",
       "        vertical-align: top;\n",
       "    }\n",
       "\n",
       "    .dataframe thead th {\n",
       "        text-align: right;\n",
       "    }\n",
       "</style>\n",
       "<table border=\"1\" class=\"dataframe\">\n",
       "  <thead>\n",
       "    <tr style=\"text-align: right;\">\n",
       "      <th></th>\n",
       "      <th>Month</th>\n",
       "      <th>Amortization</th>\n",
       "      <th>Type</th>\n",
       "    </tr>\n",
       "  </thead>\n",
       "  <tbody>\n",
       "    <tr>\n",
       "      <th>0</th>\n",
       "      <td>1</td>\n",
       "      <td>1500</td>\n",
       "      <td>Term</td>\n",
       "    </tr>\n",
       "    <tr>\n",
       "      <th>1</th>\n",
       "      <td>2</td>\n",
       "      <td>1500</td>\n",
       "      <td>Term</td>\n",
       "    </tr>\n",
       "    <tr>\n",
       "      <th>2</th>\n",
       "      <td>3</td>\n",
       "      <td>1500</td>\n",
       "      <td>Term</td>\n",
       "    </tr>\n",
       "    <tr>\n",
       "      <th>3</th>\n",
       "      <td>4</td>\n",
       "      <td>1500</td>\n",
       "      <td>Term</td>\n",
       "    </tr>\n",
       "    <tr>\n",
       "      <th>4</th>\n",
       "      <td>5</td>\n",
       "      <td>1500</td>\n",
       "      <td>Term</td>\n",
       "    </tr>\n",
       "  </tbody>\n",
       "</table>\n",
       "</div>"
      ],
      "text/plain": [
       "   Month  Amortization  Type\n",
       "0      1          1500  Term\n",
       "1      2          1500  Term\n",
       "2      3          1500  Term\n",
       "3      4          1500  Term\n",
       "4      5          1500  Term"
      ]
     },
     "execution_count": 5,
     "metadata": {},
     "output_type": "execute_result"
    }
   ],
   "source": [
    "import pandas as pd\n",
    "amortization_df = pd.read_csv('amortization_schedule.csv', delimiter=';')\n",
    "amortization_df.head()"
   ]
  },
  {
   "cell_type": "code",
   "execution_count": 6,
   "id": "d891f29a",
   "metadata": {},
   "outputs": [
    {
     "data": {
      "text/html": [
       "<div>\n",
       "<style scoped>\n",
       "    .dataframe tbody tr th:only-of-type {\n",
       "        vertical-align: middle;\n",
       "    }\n",
       "\n",
       "    .dataframe tbody tr th {\n",
       "        vertical-align: top;\n",
       "    }\n",
       "\n",
       "    .dataframe thead th {\n",
       "        text-align: right;\n",
       "    }\n",
       "</style>\n",
       "<table border=\"1\" class=\"dataframe\">\n",
       "  <thead>\n",
       "    <tr style=\"text-align: right;\">\n",
       "      <th></th>\n",
       "      <th>Payment Number</th>\n",
       "      <th>Monthly Payment</th>\n",
       "      <th>Total Payment</th>\n",
       "      <th>Regular Amortization</th>\n",
       "      <th>Additional Amortization</th>\n",
       "      <th>Total Amortization</th>\n",
       "      <th>Amortization Type</th>\n",
       "      <th>Interest</th>\n",
       "      <th>Remaining Balance</th>\n",
       "      <th>Accrued Interest</th>\n",
       "      <th>Remaining Months</th>\n",
       "      <th>Remaining Balance (after payment)</th>\n",
       "    </tr>\n",
       "  </thead>\n",
       "  <tbody>\n",
       "    <tr>\n",
       "      <th>0</th>\n",
       "      <td>1</td>\n",
       "      <td>1383.04</td>\n",
       "      <td>2883.04</td>\n",
       "      <td>806.29</td>\n",
       "      <td>1500</td>\n",
       "      <td>2306.29</td>\n",
       "      <td>1500</td>\n",
       "      <td>576.75</td>\n",
       "      <td>382193.71</td>\n",
       "      <td>576.75</td>\n",
       "      <td>357</td>\n",
       "      <td>382193.71</td>\n",
       "    </tr>\n",
       "    <tr>\n",
       "      <th>1</th>\n",
       "      <td>2</td>\n",
       "      <td>1383.04</td>\n",
       "      <td>2883.04</td>\n",
       "      <td>809.75</td>\n",
       "      <td>1500</td>\n",
       "      <td>2309.75</td>\n",
       "      <td>1500</td>\n",
       "      <td>573.29</td>\n",
       "      <td>379883.96</td>\n",
       "      <td>1150.04</td>\n",
       "      <td>354</td>\n",
       "      <td>379883.96</td>\n",
       "    </tr>\n",
       "    <tr>\n",
       "      <th>2</th>\n",
       "      <td>3</td>\n",
       "      <td>1383.04</td>\n",
       "      <td>2883.04</td>\n",
       "      <td>813.21</td>\n",
       "      <td>1500</td>\n",
       "      <td>2313.21</td>\n",
       "      <td>1500</td>\n",
       "      <td>569.83</td>\n",
       "      <td>377570.74</td>\n",
       "      <td>1719.87</td>\n",
       "      <td>351</td>\n",
       "      <td>377570.74</td>\n",
       "    </tr>\n",
       "    <tr>\n",
       "      <th>3</th>\n",
       "      <td>4</td>\n",
       "      <td>1383.04</td>\n",
       "      <td>2883.04</td>\n",
       "      <td>816.68</td>\n",
       "      <td>1500</td>\n",
       "      <td>2316.68</td>\n",
       "      <td>1500</td>\n",
       "      <td>566.36</td>\n",
       "      <td>375254.06</td>\n",
       "      <td>2286.22</td>\n",
       "      <td>349</td>\n",
       "      <td>375254.06</td>\n",
       "    </tr>\n",
       "    <tr>\n",
       "      <th>4</th>\n",
       "      <td>5</td>\n",
       "      <td>1383.04</td>\n",
       "      <td>2883.04</td>\n",
       "      <td>820.16</td>\n",
       "      <td>1500</td>\n",
       "      <td>2320.16</td>\n",
       "      <td>1500</td>\n",
       "      <td>562.88</td>\n",
       "      <td>372933.90</td>\n",
       "      <td>2849.10</td>\n",
       "      <td>346</td>\n",
       "      <td>372933.90</td>\n",
       "    </tr>\n",
       "    <tr>\n",
       "      <th>...</th>\n",
       "      <td>...</td>\n",
       "      <td>...</td>\n",
       "      <td>...</td>\n",
       "      <td>...</td>\n",
       "      <td>...</td>\n",
       "      <td>...</td>\n",
       "      <td>...</td>\n",
       "      <td>...</td>\n",
       "      <td>...</td>\n",
       "      <td>...</td>\n",
       "      <td>...</td>\n",
       "      <td>...</td>\n",
       "    </tr>\n",
       "    <tr>\n",
       "      <th>313</th>\n",
       "      <td>314</td>\n",
       "      <td>954.11</td>\n",
       "      <td>954.11</td>\n",
       "      <td>946.99</td>\n",
       "      <td>0</td>\n",
       "      <td>946.99</td>\n",
       "      <td>0</td>\n",
       "      <td>7.12</td>\n",
       "      <td>3802.17</td>\n",
       "      <td>72286.16</td>\n",
       "      <td>4</td>\n",
       "      <td>3802.17</td>\n",
       "    </tr>\n",
       "    <tr>\n",
       "      <th>314</th>\n",
       "      <td>315</td>\n",
       "      <td>954.11</td>\n",
       "      <td>954.11</td>\n",
       "      <td>948.41</td>\n",
       "      <td>0</td>\n",
       "      <td>948.41</td>\n",
       "      <td>0</td>\n",
       "      <td>5.70</td>\n",
       "      <td>2853.76</td>\n",
       "      <td>72291.87</td>\n",
       "      <td>3</td>\n",
       "      <td>2853.76</td>\n",
       "    </tr>\n",
       "    <tr>\n",
       "      <th>315</th>\n",
       "      <td>316</td>\n",
       "      <td>954.11</td>\n",
       "      <td>954.11</td>\n",
       "      <td>949.83</td>\n",
       "      <td>0</td>\n",
       "      <td>949.83</td>\n",
       "      <td>0</td>\n",
       "      <td>4.28</td>\n",
       "      <td>1903.93</td>\n",
       "      <td>72296.15</td>\n",
       "      <td>2</td>\n",
       "      <td>1903.93</td>\n",
       "    </tr>\n",
       "    <tr>\n",
       "      <th>316</th>\n",
       "      <td>317</td>\n",
       "      <td>954.11</td>\n",
       "      <td>954.11</td>\n",
       "      <td>951.25</td>\n",
       "      <td>0</td>\n",
       "      <td>951.25</td>\n",
       "      <td>0</td>\n",
       "      <td>2.86</td>\n",
       "      <td>952.68</td>\n",
       "      <td>72299.00</td>\n",
       "      <td>1</td>\n",
       "      <td>952.68</td>\n",
       "    </tr>\n",
       "    <tr>\n",
       "      <th>317</th>\n",
       "      <td>318</td>\n",
       "      <td>954.11</td>\n",
       "      <td>954.11</td>\n",
       "      <td>952.68</td>\n",
       "      <td>0</td>\n",
       "      <td>952.68</td>\n",
       "      <td>0</td>\n",
       "      <td>1.43</td>\n",
       "      <td>0.00</td>\n",
       "      <td>72300.43</td>\n",
       "      <td>0</td>\n",
       "      <td>0.00</td>\n",
       "    </tr>\n",
       "  </tbody>\n",
       "</table>\n",
       "<p>318 rows × 12 columns</p>\n",
       "</div>"
      ],
      "text/plain": [
       "     Payment Number  Monthly Payment  Total Payment  Regular Amortization  \\\n",
       "0                 1          1383.04        2883.04                806.29   \n",
       "1                 2          1383.04        2883.04                809.75   \n",
       "2                 3          1383.04        2883.04                813.21   \n",
       "3                 4          1383.04        2883.04                816.68   \n",
       "4                 5          1383.04        2883.04                820.16   \n",
       "..              ...              ...            ...                   ...   \n",
       "313             314           954.11         954.11                946.99   \n",
       "314             315           954.11         954.11                948.41   \n",
       "315             316           954.11         954.11                949.83   \n",
       "316             317           954.11         954.11                951.25   \n",
       "317             318           954.11         954.11                952.68   \n",
       "\n",
       "     Additional Amortization  Total Amortization  Amortization Type  Interest  \\\n",
       "0                       1500             2306.29               1500    576.75   \n",
       "1                       1500             2309.75               1500    573.29   \n",
       "2                       1500             2313.21               1500    569.83   \n",
       "3                       1500             2316.68               1500    566.36   \n",
       "4                       1500             2320.16               1500    562.88   \n",
       "..                       ...                 ...                ...       ...   \n",
       "313                        0              946.99                  0      7.12   \n",
       "314                        0              948.41                  0      5.70   \n",
       "315                        0              949.83                  0      4.28   \n",
       "316                        0              951.25                  0      2.86   \n",
       "317                        0              952.68                  0      1.43   \n",
       "\n",
       "     Remaining Balance  Accrued Interest  Remaining Months  \\\n",
       "0            382193.71            576.75               357   \n",
       "1            379883.96           1150.04               354   \n",
       "2            377570.74           1719.87               351   \n",
       "3            375254.06           2286.22               349   \n",
       "4            372933.90           2849.10               346   \n",
       "..                 ...               ...               ...   \n",
       "313            3802.17          72286.16                 4   \n",
       "314            2853.76          72291.87                 3   \n",
       "315            1903.93          72296.15                 2   \n",
       "316             952.68          72299.00                 1   \n",
       "317               0.00          72300.43                 0   \n",
       "\n",
       "     Remaining Balance (after payment)  \n",
       "0                            382193.71  \n",
       "1                            379883.96  \n",
       "2                            377570.74  \n",
       "3                            375254.06  \n",
       "4                            372933.90  \n",
       "..                                 ...  \n",
       "313                            3802.17  \n",
       "314                            2853.76  \n",
       "315                            1903.93  \n",
       "316                             952.68  \n",
       "317                               0.00  \n",
       "\n",
       "[318 rows x 12 columns]"
      ]
     },
     "execution_count": 6,
     "metadata": {},
     "output_type": "execute_result"
    }
   ],
   "source": [
    "mortage_extra = MortgageCalculator(house_price, down_payment, interest_rate, loan_term_years, cost, taxes, amortization_schedule_df=amortization_df)\n",
    "mortage_extra.run()\n",
    "mortage_extra.get_amortization_schedule()"
   ]
  },
  {
   "cell_type": "code",
   "execution_count": 7,
   "id": "da90ddea",
   "metadata": {},
   "outputs": [
    {
     "data": {
      "text/html": [
       "<div>\n",
       "<style scoped>\n",
       "    .dataframe tbody tr th:only-of-type {\n",
       "        vertical-align: middle;\n",
       "    }\n",
       "\n",
       "    .dataframe tbody tr th {\n",
       "        vertical-align: top;\n",
       "    }\n",
       "\n",
       "    .dataframe thead th {\n",
       "        text-align: right;\n",
       "    }\n",
       "</style>\n",
       "<table border=\"1\" class=\"dataframe\">\n",
       "  <thead>\n",
       "    <tr style=\"text-align: right;\">\n",
       "      <th></th>\n",
       "      <th>Payment Number</th>\n",
       "      <th>Monthly Payment</th>\n",
       "      <th>Total Payment</th>\n",
       "      <th>Regular Amortization</th>\n",
       "      <th>Additional Amortization</th>\n",
       "      <th>Total Amortization</th>\n",
       "      <th>Amortization Type</th>\n",
       "      <th>Interest</th>\n",
       "      <th>Remaining Balance</th>\n",
       "      <th>Accrued Interest</th>\n",
       "      <th>Remaining Months</th>\n",
       "      <th>Remaining Balance (after payment)</th>\n",
       "    </tr>\n",
       "  </thead>\n",
       "  <tbody>\n",
       "    <tr>\n",
       "      <th>0</th>\n",
       "      <td>1</td>\n",
       "      <td>1383.04</td>\n",
       "      <td>1383.04</td>\n",
       "      <td>806.29</td>\n",
       "      <td>0</td>\n",
       "      <td>806.29</td>\n",
       "      <td>0</td>\n",
       "      <td>576.75</td>\n",
       "      <td>383693.71</td>\n",
       "      <td>576.75</td>\n",
       "      <td>359</td>\n",
       "      <td>383693.71</td>\n",
       "    </tr>\n",
       "    <tr>\n",
       "      <th>1</th>\n",
       "      <td>2</td>\n",
       "      <td>1383.04</td>\n",
       "      <td>1383.04</td>\n",
       "      <td>807.50</td>\n",
       "      <td>0</td>\n",
       "      <td>807.50</td>\n",
       "      <td>0</td>\n",
       "      <td>575.54</td>\n",
       "      <td>382886.21</td>\n",
       "      <td>1152.29</td>\n",
       "      <td>358</td>\n",
       "      <td>382886.21</td>\n",
       "    </tr>\n",
       "    <tr>\n",
       "      <th>2</th>\n",
       "      <td>3</td>\n",
       "      <td>1383.04</td>\n",
       "      <td>1383.04</td>\n",
       "      <td>808.71</td>\n",
       "      <td>0</td>\n",
       "      <td>808.71</td>\n",
       "      <td>0</td>\n",
       "      <td>574.33</td>\n",
       "      <td>382077.50</td>\n",
       "      <td>1726.62</td>\n",
       "      <td>357</td>\n",
       "      <td>382077.50</td>\n",
       "    </tr>\n",
       "    <tr>\n",
       "      <th>3</th>\n",
       "      <td>4</td>\n",
       "      <td>1383.04</td>\n",
       "      <td>1383.04</td>\n",
       "      <td>809.92</td>\n",
       "      <td>0</td>\n",
       "      <td>809.92</td>\n",
       "      <td>0</td>\n",
       "      <td>573.12</td>\n",
       "      <td>381267.57</td>\n",
       "      <td>2299.74</td>\n",
       "      <td>356</td>\n",
       "      <td>381267.57</td>\n",
       "    </tr>\n",
       "    <tr>\n",
       "      <th>4</th>\n",
       "      <td>5</td>\n",
       "      <td>1383.04</td>\n",
       "      <td>1383.04</td>\n",
       "      <td>811.14</td>\n",
       "      <td>0</td>\n",
       "      <td>811.14</td>\n",
       "      <td>0</td>\n",
       "      <td>571.90</td>\n",
       "      <td>380456.43</td>\n",
       "      <td>2871.64</td>\n",
       "      <td>355</td>\n",
       "      <td>380456.43</td>\n",
       "    </tr>\n",
       "    <tr>\n",
       "      <th>...</th>\n",
       "      <td>...</td>\n",
       "      <td>...</td>\n",
       "      <td>...</td>\n",
       "      <td>...</td>\n",
       "      <td>...</td>\n",
       "      <td>...</td>\n",
       "      <td>...</td>\n",
       "      <td>...</td>\n",
       "      <td>...</td>\n",
       "      <td>...</td>\n",
       "      <td>...</td>\n",
       "      <td>...</td>\n",
       "    </tr>\n",
       "    <tr>\n",
       "      <th>355</th>\n",
       "      <td>356</td>\n",
       "      <td>1383.04</td>\n",
       "      <td>1383.04</td>\n",
       "      <td>1372.71</td>\n",
       "      <td>0</td>\n",
       "      <td>1372.71</td>\n",
       "      <td>0</td>\n",
       "      <td>10.33</td>\n",
       "      <td>5511.48</td>\n",
       "      <td>113373.97</td>\n",
       "      <td>4</td>\n",
       "      <td>5511.48</td>\n",
       "    </tr>\n",
       "    <tr>\n",
       "      <th>356</th>\n",
       "      <td>357</td>\n",
       "      <td>1383.04</td>\n",
       "      <td>1383.04</td>\n",
       "      <td>1374.77</td>\n",
       "      <td>0</td>\n",
       "      <td>1374.77</td>\n",
       "      <td>0</td>\n",
       "      <td>8.27</td>\n",
       "      <td>4136.71</td>\n",
       "      <td>113382.24</td>\n",
       "      <td>3</td>\n",
       "      <td>4136.71</td>\n",
       "    </tr>\n",
       "    <tr>\n",
       "      <th>357</th>\n",
       "      <td>358</td>\n",
       "      <td>1383.04</td>\n",
       "      <td>1383.04</td>\n",
       "      <td>1376.84</td>\n",
       "      <td>0</td>\n",
       "      <td>1376.84</td>\n",
       "      <td>0</td>\n",
       "      <td>6.21</td>\n",
       "      <td>2759.87</td>\n",
       "      <td>113388.45</td>\n",
       "      <td>2</td>\n",
       "      <td>2759.87</td>\n",
       "    </tr>\n",
       "    <tr>\n",
       "      <th>358</th>\n",
       "      <td>359</td>\n",
       "      <td>1383.04</td>\n",
       "      <td>1383.04</td>\n",
       "      <td>1378.90</td>\n",
       "      <td>0</td>\n",
       "      <td>1378.90</td>\n",
       "      <td>0</td>\n",
       "      <td>4.14</td>\n",
       "      <td>1380.97</td>\n",
       "      <td>113392.59</td>\n",
       "      <td>1</td>\n",
       "      <td>1380.97</td>\n",
       "    </tr>\n",
       "    <tr>\n",
       "      <th>359</th>\n",
       "      <td>360</td>\n",
       "      <td>1383.04</td>\n",
       "      <td>1383.04</td>\n",
       "      <td>1380.97</td>\n",
       "      <td>0</td>\n",
       "      <td>1380.97</td>\n",
       "      <td>0</td>\n",
       "      <td>2.07</td>\n",
       "      <td>0.00</td>\n",
       "      <td>113394.66</td>\n",
       "      <td>0</td>\n",
       "      <td>0.00</td>\n",
       "    </tr>\n",
       "  </tbody>\n",
       "</table>\n",
       "<p>360 rows × 12 columns</p>\n",
       "</div>"
      ],
      "text/plain": [
       "     Payment Number  Monthly Payment  Total Payment  Regular Amortization  \\\n",
       "0                 1          1383.04        1383.04                806.29   \n",
       "1                 2          1383.04        1383.04                807.50   \n",
       "2                 3          1383.04        1383.04                808.71   \n",
       "3                 4          1383.04        1383.04                809.92   \n",
       "4                 5          1383.04        1383.04                811.14   \n",
       "..              ...              ...            ...                   ...   \n",
       "355             356          1383.04        1383.04               1372.71   \n",
       "356             357          1383.04        1383.04               1374.77   \n",
       "357             358          1383.04        1383.04               1376.84   \n",
       "358             359          1383.04        1383.04               1378.90   \n",
       "359             360          1383.04        1383.04               1380.97   \n",
       "\n",
       "     Additional Amortization  Total Amortization  Amortization Type  Interest  \\\n",
       "0                          0              806.29                  0    576.75   \n",
       "1                          0              807.50                  0    575.54   \n",
       "2                          0              808.71                  0    574.33   \n",
       "3                          0              809.92                  0    573.12   \n",
       "4                          0              811.14                  0    571.90   \n",
       "..                       ...                 ...                ...       ...   \n",
       "355                        0             1372.71                  0     10.33   \n",
       "356                        0             1374.77                  0      8.27   \n",
       "357                        0             1376.84                  0      6.21   \n",
       "358                        0             1378.90                  0      4.14   \n",
       "359                        0             1380.97                  0      2.07   \n",
       "\n",
       "     Remaining Balance  Accrued Interest  Remaining Months  \\\n",
       "0            383693.71            576.75               359   \n",
       "1            382886.21           1152.29               358   \n",
       "2            382077.50           1726.62               357   \n",
       "3            381267.57           2299.74               356   \n",
       "4            380456.43           2871.64               355   \n",
       "..                 ...               ...               ...   \n",
       "355            5511.48         113373.97                 4   \n",
       "356            4136.71         113382.24                 3   \n",
       "357            2759.87         113388.45                 2   \n",
       "358            1380.97         113392.59                 1   \n",
       "359               0.00         113394.66                 0   \n",
       "\n",
       "     Remaining Balance (after payment)  \n",
       "0                            383693.71  \n",
       "1                            382886.21  \n",
       "2                            382077.50  \n",
       "3                            381267.57  \n",
       "4                            380456.43  \n",
       "..                                 ...  \n",
       "355                            5511.48  \n",
       "356                            4136.71  \n",
       "357                            2759.87  \n",
       "358                            1380.97  \n",
       "359                               0.00  \n",
       "\n",
       "[360 rows x 12 columns]"
      ]
     },
     "execution_count": 7,
     "metadata": {},
     "output_type": "execute_result"
    }
   ],
   "source": [
    "mortage.get_amortization_schedule()"
   ]
  },
  {
   "cell_type": "code",
   "execution_count": 8,
   "id": "ae7f0573",
   "metadata": {},
   "outputs": [],
   "source": [
    "graphical_data = pd.DataFrame(mortage_extra.get_amortization_schedule()).iloc[0::12]"
   ]
  },
  {
   "cell_type": "code",
   "execution_count": 9,
   "id": "c3ff6033",
   "metadata": {},
   "outputs": [
    {
     "data": {
      "text/html": [
       "<div>\n",
       "<style scoped>\n",
       "    .dataframe tbody tr th:only-of-type {\n",
       "        vertical-align: middle;\n",
       "    }\n",
       "\n",
       "    .dataframe tbody tr th {\n",
       "        vertical-align: top;\n",
       "    }\n",
       "\n",
       "    .dataframe thead th {\n",
       "        text-align: right;\n",
       "    }\n",
       "</style>\n",
       "<table border=\"1\" class=\"dataframe\">\n",
       "  <thead>\n",
       "    <tr style=\"text-align: right;\">\n",
       "      <th></th>\n",
       "      <th>Payment Number</th>\n",
       "      <th>Monthly Payment</th>\n",
       "      <th>Total Payment</th>\n",
       "      <th>Regular Amortization</th>\n",
       "      <th>Additional Amortization</th>\n",
       "      <th>Total Amortization</th>\n",
       "      <th>Amortization Type</th>\n",
       "      <th>Interest</th>\n",
       "      <th>Remaining Balance</th>\n",
       "      <th>Accrued Interest</th>\n",
       "      <th>Remaining Months</th>\n",
       "      <th>Remaining Balance (after payment)</th>\n",
       "    </tr>\n",
       "  </thead>\n",
       "  <tbody>\n",
       "    <tr>\n",
       "      <th>0</th>\n",
       "      <td>1</td>\n",
       "      <td>1383.04</td>\n",
       "      <td>2883.04</td>\n",
       "      <td>806.29</td>\n",
       "      <td>1500</td>\n",
       "      <td>2306.29</td>\n",
       "      <td>1500</td>\n",
       "      <td>576.75</td>\n",
       "      <td>382193.71</td>\n",
       "      <td>576.75</td>\n",
       "      <td>357</td>\n",
       "      <td>382193.71</td>\n",
       "    </tr>\n",
       "    <tr>\n",
       "      <th>12</th>\n",
       "      <td>13</td>\n",
       "      <td>1383.04</td>\n",
       "      <td>2883.04</td>\n",
       "      <td>848.15</td>\n",
       "      <td>1500</td>\n",
       "      <td>2348.15</td>\n",
       "      <td>1500</td>\n",
       "      <td>534.89</td>\n",
       "      <td>354246.90</td>\n",
       "      <td>7226.42</td>\n",
       "      <td>323</td>\n",
       "      <td>354246.90</td>\n",
       "    </tr>\n",
       "    <tr>\n",
       "      <th>24</th>\n",
       "      <td>25</td>\n",
       "      <td>1374.93</td>\n",
       "      <td>2883.04</td>\n",
       "      <td>890.77</td>\n",
       "      <td>1500</td>\n",
       "      <td>2390.77</td>\n",
       "      <td>1500</td>\n",
       "      <td>492.28</td>\n",
       "      <td>325792.87</td>\n",
       "      <td>13368.89</td>\n",
       "      <td>293</td>\n",
       "      <td>325792.87</td>\n",
       "    </tr>\n",
       "    <tr>\n",
       "      <th>36</th>\n",
       "      <td>37</td>\n",
       "      <td>1297.58</td>\n",
       "      <td>2804.13</td>\n",
       "      <td>854.58</td>\n",
       "      <td>1500</td>\n",
       "      <td>2354.58</td>\n",
       "      <td>1500</td>\n",
       "      <td>449.55</td>\n",
       "      <td>297345.54</td>\n",
       "      <td>18997.85</td>\n",
       "      <td>281</td>\n",
       "      <td>297345.54</td>\n",
       "    </tr>\n",
       "    <tr>\n",
       "      <th>48</th>\n",
       "      <td>49</td>\n",
       "      <td>1219.78</td>\n",
       "      <td>2224.30</td>\n",
       "      <td>816.83</td>\n",
       "      <td>1000</td>\n",
       "      <td>1816.83</td>\n",
       "      <td>1000</td>\n",
       "      <td>407.47</td>\n",
       "      <td>269832.51</td>\n",
       "      <td>24118.28</td>\n",
       "      <td>269</td>\n",
       "      <td>269832.51</td>\n",
       "    </tr>\n",
       "    <tr>\n",
       "      <th>60</th>\n",
       "      <td>61</td>\n",
       "      <td>1164.44</td>\n",
       "      <td>2169.13</td>\n",
       "      <td>794.18</td>\n",
       "      <td>1000</td>\n",
       "      <td>1794.18</td>\n",
       "      <td>1000</td>\n",
       "      <td>374.95</td>\n",
       "      <td>248175.35</td>\n",
       "      <td>28796.19</td>\n",
       "      <td>257</td>\n",
       "      <td>248175.35</td>\n",
       "    </tr>\n",
       "    <tr>\n",
       "      <th>72</th>\n",
       "      <td>73</td>\n",
       "      <td>1106.93</td>\n",
       "      <td>2111.81</td>\n",
       "      <td>768.95</td>\n",
       "      <td>1000</td>\n",
       "      <td>1768.95</td>\n",
       "      <td>1000</td>\n",
       "      <td>342.86</td>\n",
       "      <td>226806.55</td>\n",
       "      <td>33086.60</td>\n",
       "      <td>245</td>\n",
       "      <td>226806.55</td>\n",
       "    </tr>\n",
       "    <tr>\n",
       "      <th>84</th>\n",
       "      <td>85</td>\n",
       "      <td>1049.57</td>\n",
       "      <td>1552.12</td>\n",
       "      <td>740.87</td>\n",
       "      <td>500</td>\n",
       "      <td>1240.87</td>\n",
       "      <td>500</td>\n",
       "      <td>311.25</td>\n",
       "      <td>206258.74</td>\n",
       "      <td>36994.97</td>\n",
       "      <td>233</td>\n",
       "      <td>206258.74</td>\n",
       "    </tr>\n",
       "    <tr>\n",
       "      <th>96</th>\n",
       "      <td>97</td>\n",
       "      <td>1018.30</td>\n",
       "      <td>1520.96</td>\n",
       "      <td>731.98</td>\n",
       "      <td>500</td>\n",
       "      <td>1231.98</td>\n",
       "      <td>500</td>\n",
       "      <td>288.98</td>\n",
       "      <td>191424.56</td>\n",
       "      <td>40585.09</td>\n",
       "      <td>221</td>\n",
       "      <td>191424.56</td>\n",
       "    </tr>\n",
       "    <tr>\n",
       "      <th>108</th>\n",
       "      <td>109</td>\n",
       "      <td>985.56</td>\n",
       "      <td>1488.35</td>\n",
       "      <td>721.46</td>\n",
       "      <td>500</td>\n",
       "      <td>1221.46</td>\n",
       "      <td>500</td>\n",
       "      <td>266.89</td>\n",
       "      <td>176707.48</td>\n",
       "      <td>43909.12</td>\n",
       "      <td>209</td>\n",
       "      <td>176707.48</td>\n",
       "    </tr>\n",
       "    <tr>\n",
       "      <th>120</th>\n",
       "      <td>121</td>\n",
       "      <td>954.11</td>\n",
       "      <td>954.11</td>\n",
       "      <td>709.10</td>\n",
       "      <td>0</td>\n",
       "      <td>709.10</td>\n",
       "      <td>0</td>\n",
       "      <td>245.01</td>\n",
       "      <td>162628.36</td>\n",
       "      <td>46969.36</td>\n",
       "      <td>197</td>\n",
       "      <td>162628.36</td>\n",
       "    </tr>\n",
       "    <tr>\n",
       "      <th>132</th>\n",
       "      <td>133</td>\n",
       "      <td>954.11</td>\n",
       "      <td>954.11</td>\n",
       "      <td>721.97</td>\n",
       "      <td>0</td>\n",
       "      <td>721.97</td>\n",
       "      <td>0</td>\n",
       "      <td>232.14</td>\n",
       "      <td>154035.71</td>\n",
       "      <td>49826.01</td>\n",
       "      <td>185</td>\n",
       "      <td>154035.71</td>\n",
       "    </tr>\n",
       "    <tr>\n",
       "      <th>144</th>\n",
       "      <td>145</td>\n",
       "      <td>954.11</td>\n",
       "      <td>954.11</td>\n",
       "      <td>735.08</td>\n",
       "      <td>0</td>\n",
       "      <td>735.08</td>\n",
       "      <td>0</td>\n",
       "      <td>219.03</td>\n",
       "      <td>145287.10</td>\n",
       "      <td>52526.71</td>\n",
       "      <td>173</td>\n",
       "      <td>145287.10</td>\n",
       "    </tr>\n",
       "    <tr>\n",
       "      <th>156</th>\n",
       "      <td>157</td>\n",
       "      <td>954.11</td>\n",
       "      <td>954.11</td>\n",
       "      <td>748.42</td>\n",
       "      <td>0</td>\n",
       "      <td>748.42</td>\n",
       "      <td>0</td>\n",
       "      <td>205.69</td>\n",
       "      <td>136379.72</td>\n",
       "      <td>55068.63</td>\n",
       "      <td>161</td>\n",
       "      <td>136379.72</td>\n",
       "    </tr>\n",
       "    <tr>\n",
       "      <th>168</th>\n",
       "      <td>169</td>\n",
       "      <td>954.11</td>\n",
       "      <td>954.11</td>\n",
       "      <td>762.00</td>\n",
       "      <td>0</td>\n",
       "      <td>762.00</td>\n",
       "      <td>0</td>\n",
       "      <td>192.11</td>\n",
       "      <td>127310.67</td>\n",
       "      <td>57448.89</td>\n",
       "      <td>149</td>\n",
       "      <td>127310.67</td>\n",
       "    </tr>\n",
       "    <tr>\n",
       "      <th>180</th>\n",
       "      <td>181</td>\n",
       "      <td>954.11</td>\n",
       "      <td>954.11</td>\n",
       "      <td>775.83</td>\n",
       "      <td>0</td>\n",
       "      <td>775.83</td>\n",
       "      <td>0</td>\n",
       "      <td>178.28</td>\n",
       "      <td>118077.02</td>\n",
       "      <td>59664.55</td>\n",
       "      <td>137</td>\n",
       "      <td>118077.02</td>\n",
       "    </tr>\n",
       "    <tr>\n",
       "      <th>192</th>\n",
       "      <td>193</td>\n",
       "      <td>954.11</td>\n",
       "      <td>954.11</td>\n",
       "      <td>789.91</td>\n",
       "      <td>0</td>\n",
       "      <td>789.91</td>\n",
       "      <td>0</td>\n",
       "      <td>164.20</td>\n",
       "      <td>108675.80</td>\n",
       "      <td>61712.63</td>\n",
       "      <td>125</td>\n",
       "      <td>108675.80</td>\n",
       "    </tr>\n",
       "    <tr>\n",
       "      <th>204</th>\n",
       "      <td>205</td>\n",
       "      <td>954.11</td>\n",
       "      <td>954.11</td>\n",
       "      <td>804.25</td>\n",
       "      <td>0</td>\n",
       "      <td>804.25</td>\n",
       "      <td>0</td>\n",
       "      <td>149.86</td>\n",
       "      <td>99103.94</td>\n",
       "      <td>63590.08</td>\n",
       "      <td>113</td>\n",
       "      <td>99103.94</td>\n",
       "    </tr>\n",
       "    <tr>\n",
       "      <th>216</th>\n",
       "      <td>217</td>\n",
       "      <td>954.11</td>\n",
       "      <td>954.11</td>\n",
       "      <td>818.84</td>\n",
       "      <td>0</td>\n",
       "      <td>818.84</td>\n",
       "      <td>0</td>\n",
       "      <td>135.27</td>\n",
       "      <td>89358.37</td>\n",
       "      <td>65293.81</td>\n",
       "      <td>101</td>\n",
       "      <td>89358.37</td>\n",
       "    </tr>\n",
       "    <tr>\n",
       "      <th>228</th>\n",
       "      <td>229</td>\n",
       "      <td>954.11</td>\n",
       "      <td>954.11</td>\n",
       "      <td>833.70</td>\n",
       "      <td>0</td>\n",
       "      <td>833.70</td>\n",
       "      <td>0</td>\n",
       "      <td>120.40</td>\n",
       "      <td>79435.92</td>\n",
       "      <td>66820.67</td>\n",
       "      <td>89</td>\n",
       "      <td>79435.92</td>\n",
       "    </tr>\n",
       "    <tr>\n",
       "      <th>240</th>\n",
       "      <td>241</td>\n",
       "      <td>954.11</td>\n",
       "      <td>954.11</td>\n",
       "      <td>848.84</td>\n",
       "      <td>0</td>\n",
       "      <td>848.84</td>\n",
       "      <td>0</td>\n",
       "      <td>105.27</td>\n",
       "      <td>69333.39</td>\n",
       "      <td>68167.44</td>\n",
       "      <td>77</td>\n",
       "      <td>69333.39</td>\n",
       "    </tr>\n",
       "    <tr>\n",
       "      <th>252</th>\n",
       "      <td>253</td>\n",
       "      <td>954.11</td>\n",
       "      <td>954.11</td>\n",
       "      <td>864.24</td>\n",
       "      <td>0</td>\n",
       "      <td>864.24</td>\n",
       "      <td>0</td>\n",
       "      <td>89.87</td>\n",
       "      <td>59047.50</td>\n",
       "      <td>69330.86</td>\n",
       "      <td>65</td>\n",
       "      <td>59047.50</td>\n",
       "    </tr>\n",
       "    <tr>\n",
       "      <th>264</th>\n",
       "      <td>265</td>\n",
       "      <td>954.11</td>\n",
       "      <td>954.11</td>\n",
       "      <td>879.93</td>\n",
       "      <td>0</td>\n",
       "      <td>879.93</td>\n",
       "      <td>0</td>\n",
       "      <td>74.18</td>\n",
       "      <td>48574.93</td>\n",
       "      <td>70307.60</td>\n",
       "      <td>53</td>\n",
       "      <td>48574.93</td>\n",
       "    </tr>\n",
       "    <tr>\n",
       "      <th>276</th>\n",
       "      <td>277</td>\n",
       "      <td>954.11</td>\n",
       "      <td>954.11</td>\n",
       "      <td>895.90</td>\n",
       "      <td>0</td>\n",
       "      <td>895.90</td>\n",
       "      <td>0</td>\n",
       "      <td>58.21</td>\n",
       "      <td>37912.29</td>\n",
       "      <td>71094.26</td>\n",
       "      <td>41</td>\n",
       "      <td>37912.29</td>\n",
       "    </tr>\n",
       "    <tr>\n",
       "      <th>288</th>\n",
       "      <td>289</td>\n",
       "      <td>954.11</td>\n",
       "      <td>954.11</td>\n",
       "      <td>912.16</td>\n",
       "      <td>0</td>\n",
       "      <td>912.16</td>\n",
       "      <td>0</td>\n",
       "      <td>41.95</td>\n",
       "      <td>27056.13</td>\n",
       "      <td>71687.41</td>\n",
       "      <td>29</td>\n",
       "      <td>27056.13</td>\n",
       "    </tr>\n",
       "    <tr>\n",
       "      <th>300</th>\n",
       "      <td>301</td>\n",
       "      <td>954.11</td>\n",
       "      <td>954.11</td>\n",
       "      <td>928.71</td>\n",
       "      <td>0</td>\n",
       "      <td>928.71</td>\n",
       "      <td>0</td>\n",
       "      <td>25.40</td>\n",
       "      <td>16002.95</td>\n",
       "      <td>72083.53</td>\n",
       "      <td>17</td>\n",
       "      <td>16002.95</td>\n",
       "    </tr>\n",
       "    <tr>\n",
       "      <th>312</th>\n",
       "      <td>313</td>\n",
       "      <td>954.11</td>\n",
       "      <td>954.11</td>\n",
       "      <td>945.57</td>\n",
       "      <td>0</td>\n",
       "      <td>945.57</td>\n",
       "      <td>0</td>\n",
       "      <td>8.54</td>\n",
       "      <td>4749.15</td>\n",
       "      <td>72279.04</td>\n",
       "      <td>5</td>\n",
       "      <td>4749.15</td>\n",
       "    </tr>\n",
       "  </tbody>\n",
       "</table>\n",
       "</div>"
      ],
      "text/plain": [
       "     Payment Number  Monthly Payment  Total Payment  Regular Amortization  \\\n",
       "0                 1          1383.04        2883.04                806.29   \n",
       "12               13          1383.04        2883.04                848.15   \n",
       "24               25          1374.93        2883.04                890.77   \n",
       "36               37          1297.58        2804.13                854.58   \n",
       "48               49          1219.78        2224.30                816.83   \n",
       "60               61          1164.44        2169.13                794.18   \n",
       "72               73          1106.93        2111.81                768.95   \n",
       "84               85          1049.57        1552.12                740.87   \n",
       "96               97          1018.30        1520.96                731.98   \n",
       "108             109           985.56        1488.35                721.46   \n",
       "120             121           954.11         954.11                709.10   \n",
       "132             133           954.11         954.11                721.97   \n",
       "144             145           954.11         954.11                735.08   \n",
       "156             157           954.11         954.11                748.42   \n",
       "168             169           954.11         954.11                762.00   \n",
       "180             181           954.11         954.11                775.83   \n",
       "192             193           954.11         954.11                789.91   \n",
       "204             205           954.11         954.11                804.25   \n",
       "216             217           954.11         954.11                818.84   \n",
       "228             229           954.11         954.11                833.70   \n",
       "240             241           954.11         954.11                848.84   \n",
       "252             253           954.11         954.11                864.24   \n",
       "264             265           954.11         954.11                879.93   \n",
       "276             277           954.11         954.11                895.90   \n",
       "288             289           954.11         954.11                912.16   \n",
       "300             301           954.11         954.11                928.71   \n",
       "312             313           954.11         954.11                945.57   \n",
       "\n",
       "     Additional Amortization  Total Amortization  Amortization Type  Interest  \\\n",
       "0                       1500             2306.29               1500    576.75   \n",
       "12                      1500             2348.15               1500    534.89   \n",
       "24                      1500             2390.77               1500    492.28   \n",
       "36                      1500             2354.58               1500    449.55   \n",
       "48                      1000             1816.83               1000    407.47   \n",
       "60                      1000             1794.18               1000    374.95   \n",
       "72                      1000             1768.95               1000    342.86   \n",
       "84                       500             1240.87                500    311.25   \n",
       "96                       500             1231.98                500    288.98   \n",
       "108                      500             1221.46                500    266.89   \n",
       "120                        0              709.10                  0    245.01   \n",
       "132                        0              721.97                  0    232.14   \n",
       "144                        0              735.08                  0    219.03   \n",
       "156                        0              748.42                  0    205.69   \n",
       "168                        0              762.00                  0    192.11   \n",
       "180                        0              775.83                  0    178.28   \n",
       "192                        0              789.91                  0    164.20   \n",
       "204                        0              804.25                  0    149.86   \n",
       "216                        0              818.84                  0    135.27   \n",
       "228                        0              833.70                  0    120.40   \n",
       "240                        0              848.84                  0    105.27   \n",
       "252                        0              864.24                  0     89.87   \n",
       "264                        0              879.93                  0     74.18   \n",
       "276                        0              895.90                  0     58.21   \n",
       "288                        0              912.16                  0     41.95   \n",
       "300                        0              928.71                  0     25.40   \n",
       "312                        0              945.57                  0      8.54   \n",
       "\n",
       "     Remaining Balance  Accrued Interest  Remaining Months  \\\n",
       "0            382193.71            576.75               357   \n",
       "12           354246.90           7226.42               323   \n",
       "24           325792.87          13368.89               293   \n",
       "36           297345.54          18997.85               281   \n",
       "48           269832.51          24118.28               269   \n",
       "60           248175.35          28796.19               257   \n",
       "72           226806.55          33086.60               245   \n",
       "84           206258.74          36994.97               233   \n",
       "96           191424.56          40585.09               221   \n",
       "108          176707.48          43909.12               209   \n",
       "120          162628.36          46969.36               197   \n",
       "132          154035.71          49826.01               185   \n",
       "144          145287.10          52526.71               173   \n",
       "156          136379.72          55068.63               161   \n",
       "168          127310.67          57448.89               149   \n",
       "180          118077.02          59664.55               137   \n",
       "192          108675.80          61712.63               125   \n",
       "204           99103.94          63590.08               113   \n",
       "216           89358.37          65293.81               101   \n",
       "228           79435.92          66820.67                89   \n",
       "240           69333.39          68167.44                77   \n",
       "252           59047.50          69330.86                65   \n",
       "264           48574.93          70307.60                53   \n",
       "276           37912.29          71094.26                41   \n",
       "288           27056.13          71687.41                29   \n",
       "300           16002.95          72083.53                17   \n",
       "312            4749.15          72279.04                 5   \n",
       "\n",
       "     Remaining Balance (after payment)  \n",
       "0                            382193.71  \n",
       "12                           354246.90  \n",
       "24                           325792.87  \n",
       "36                           297345.54  \n",
       "48                           269832.51  \n",
       "60                           248175.35  \n",
       "72                           226806.55  \n",
       "84                           206258.74  \n",
       "96                           191424.56  \n",
       "108                          176707.48  \n",
       "120                          162628.36  \n",
       "132                          154035.71  \n",
       "144                          145287.10  \n",
       "156                          136379.72  \n",
       "168                          127310.67  \n",
       "180                          118077.02  \n",
       "192                          108675.80  \n",
       "204                           99103.94  \n",
       "216                           89358.37  \n",
       "228                           79435.92  \n",
       "240                           69333.39  \n",
       "252                           59047.50  \n",
       "264                           48574.93  \n",
       "276                           37912.29  \n",
       "288                           27056.13  \n",
       "300                           16002.95  \n",
       "312                            4749.15  "
      ]
     },
     "execution_count": 9,
     "metadata": {},
     "output_type": "execute_result"
    }
   ],
   "source": [
    "graphical_data"
   ]
  },
  {
   "cell_type": "code",
   "execution_count": 10,
   "id": "01b0826f",
   "metadata": {},
   "outputs": [
    {
     "data": {
      "application/vnd.plotly.v1+json": {
       "config": {
        "plotlyServerURL": "https://plot.ly"
       },
       "data": [
        {
         "hovertemplate": "variable=Interest<br>Payment Number=%{x}<br>Monthly Payment (€)=%{y}<extra></extra>",
         "legendgroup": "Interest",
         "marker": {
          "color": "#636efa",
          "pattern": {
           "shape": ""
          }
         },
         "name": "Interest",
         "orientation": "v",
         "showlegend": true,
         "textposition": "auto",
         "type": "bar",
         "x": {
          "bdata": "AQANABkAJQAxAD0ASQBVAGEAbQB5AIUAkQCdAKkAtQDBAM0A2QDlAPEA/QAJARUBIQEtATkB",
          "dtype": "i2"
         },
         "xaxis": "x",
         "y": {
          "bdata": "AAAAAAAGgkCF61G4HreAQBSuR+F6xH5AzczMzMwYfEDsUbgehXd5QDMzMzMzb3dA9ihcj8JtdUAAAAAAAHRzQEjhehSuD3JACtejcD2ucEC4HoXrUaBuQBSuR+F6BG1AKVyPwvVga0CuR+F6FLZpQOxRuB6FA2hAKVyPwvVIZkBmZmZmZoZkQOxRuB6Fu2JAcT0K16PoYECamZmZmRleQOF6FK5HUVpASOF6FK53VkDsUbgehYtSQHsUrkfhGk1AmpmZmZn5REBmZmZmZmY5QBSuR+F6FCFA",
          "dtype": "f8"
         },
         "yaxis": "y"
        },
        {
         "hovertemplate": "variable=Regular Amortization<br>Payment Number=%{x}<br>Monthly Payment (€)=%{y}<extra></extra>",
         "legendgroup": "Regular Amortization",
         "marker": {
          "color": "#EF553B",
          "pattern": {
           "shape": ""
          }
         },
         "name": "Regular Amortization",
         "orientation": "v",
         "showlegend": true,
         "textposition": "auto",
         "type": "bar",
         "x": {
          "bdata": "AQANABkAJQAxAD0ASQBVAGEAbQB5AIUAkQCdAKkAtQDBAM0A2QDlAPEA/QAJARUBIQEtATkB",
          "dtype": "i2"
         },
         "xaxis": "x",
         "y": {
          "bdata": "uB6F61EyiUAzMzMzM4GKQFyPwvUo1otAcT0K16O0ikBxPQrXo4aJQD0K16Nw0YhAmpmZmZkHiEApXI/C9SaHQKRwPQrX34ZASOF6FK6LhkDNzMzMzCiGQPYoXI/Cj4ZAcT0K16P4hkCPwvUoXGOHQAAAAAAA0IdAcT0K16M+iEDhehSuR6+IQAAAAAAAIolAH4XrUbiWiUCamZmZmQ2KQB+F61G4hopAUrgehesBi0A9CtejcH+LQDMzMzMz/4tA4XoUrkeBjEBI4XoUrgWNQMP1KFyPjI1A",
          "dtype": "f8"
         },
         "yaxis": "y"
        },
        {
         "hovertemplate": "variable=Additional Amortization<br>Payment Number=%{x}<br>Monthly Payment (€)=%{y}<extra></extra>",
         "legendgroup": "Additional Amortization",
         "marker": {
          "color": "#00cc96",
          "pattern": {
           "shape": ""
          }
         },
         "name": "Additional Amortization",
         "orientation": "v",
         "showlegend": true,
         "textposition": "auto",
         "type": "bar",
         "x": {
          "bdata": "AQANABkAJQAxAD0ASQBVAGEAbQB5AIUAkQCdAKkAtQDBAM0A2QDlAPEA/QAJARUBIQEtATkB",
          "dtype": "i2"
         },
         "xaxis": "x",
         "y": {
          "bdata": "AAAAAABwl0AAAAAAAHCXQAAAAAAAcJdAAAAAAABwl0AAAAAAAECPQAAAAAAAQI9AAAAAAABAj0AAAAAAAEB/QAAAAAAAQH9AAAAAAABAf0AAAAAAAAAAAAAAAAAAAAAAAAAAAAAAAAAAAAAAAAAAAAAAAAAAAAAAAAAAAAAAAAAAAAAAAAAAAAAAAAAAAAAAAAAAAAAAAAAAAAAAAAAAAAAAAAAAAAAAAAAAAAAAAAAAAAAAAAAAAAAAAAAAAAAAAAAAAAAAAAAAAAAAAAAAAAAAAAAAAAAA",
          "dtype": "f8"
         },
         "yaxis": "y"
        }
       ],
       "layout": {
        "barmode": "relative",
        "font": {
         "color": "#FFFFFF"
        },
        "height": 600,
        "legend": {
         "bgcolor": "#e0e0e0",
         "bordercolor": "#FFFFFF",
         "borderwidth": 3,
         "font": {
          "color": "#202020",
          "size": 14
         },
         "orientation": "v",
         "title": {
          "text": ""
         },
         "tracegroupgap": 0,
         "xanchor": "right",
         "yanchor": "top"
        },
        "margin": {
         "t": 60
        },
        "paper_bgcolor": "#616161",
        "plot_bgcolor": "#616161",
        "template": {
         "data": {
          "bar": [
           {
            "error_x": {
             "color": "#2a3f5f"
            },
            "error_y": {
             "color": "#2a3f5f"
            },
            "marker": {
             "line": {
              "color": "#E5ECF6",
              "width": 0.5
             },
             "pattern": {
              "fillmode": "overlay",
              "size": 10,
              "solidity": 0.2
             }
            },
            "type": "bar"
           }
          ],
          "barpolar": [
           {
            "marker": {
             "line": {
              "color": "#E5ECF6",
              "width": 0.5
             },
             "pattern": {
              "fillmode": "overlay",
              "size": 10,
              "solidity": 0.2
             }
            },
            "type": "barpolar"
           }
          ],
          "carpet": [
           {
            "aaxis": {
             "endlinecolor": "#2a3f5f",
             "gridcolor": "white",
             "linecolor": "white",
             "minorgridcolor": "white",
             "startlinecolor": "#2a3f5f"
            },
            "baxis": {
             "endlinecolor": "#2a3f5f",
             "gridcolor": "white",
             "linecolor": "white",
             "minorgridcolor": "white",
             "startlinecolor": "#2a3f5f"
            },
            "type": "carpet"
           }
          ],
          "choropleth": [
           {
            "colorbar": {
             "outlinewidth": 0,
             "ticks": ""
            },
            "type": "choropleth"
           }
          ],
          "contour": [
           {
            "colorbar": {
             "outlinewidth": 0,
             "ticks": ""
            },
            "colorscale": [
             [
              0,
              "#0d0887"
             ],
             [
              0.1111111111111111,
              "#46039f"
             ],
             [
              0.2222222222222222,
              "#7201a8"
             ],
             [
              0.3333333333333333,
              "#9c179e"
             ],
             [
              0.4444444444444444,
              "#bd3786"
             ],
             [
              0.5555555555555556,
              "#d8576b"
             ],
             [
              0.6666666666666666,
              "#ed7953"
             ],
             [
              0.7777777777777778,
              "#fb9f3a"
             ],
             [
              0.8888888888888888,
              "#fdca26"
             ],
             [
              1,
              "#f0f921"
             ]
            ],
            "type": "contour"
           }
          ],
          "contourcarpet": [
           {
            "colorbar": {
             "outlinewidth": 0,
             "ticks": ""
            },
            "type": "contourcarpet"
           }
          ],
          "heatmap": [
           {
            "colorbar": {
             "outlinewidth": 0,
             "ticks": ""
            },
            "colorscale": [
             [
              0,
              "#0d0887"
             ],
             [
              0.1111111111111111,
              "#46039f"
             ],
             [
              0.2222222222222222,
              "#7201a8"
             ],
             [
              0.3333333333333333,
              "#9c179e"
             ],
             [
              0.4444444444444444,
              "#bd3786"
             ],
             [
              0.5555555555555556,
              "#d8576b"
             ],
             [
              0.6666666666666666,
              "#ed7953"
             ],
             [
              0.7777777777777778,
              "#fb9f3a"
             ],
             [
              0.8888888888888888,
              "#fdca26"
             ],
             [
              1,
              "#f0f921"
             ]
            ],
            "type": "heatmap"
           }
          ],
          "histogram": [
           {
            "marker": {
             "pattern": {
              "fillmode": "overlay",
              "size": 10,
              "solidity": 0.2
             }
            },
            "type": "histogram"
           }
          ],
          "histogram2d": [
           {
            "colorbar": {
             "outlinewidth": 0,
             "ticks": ""
            },
            "colorscale": [
             [
              0,
              "#0d0887"
             ],
             [
              0.1111111111111111,
              "#46039f"
             ],
             [
              0.2222222222222222,
              "#7201a8"
             ],
             [
              0.3333333333333333,
              "#9c179e"
             ],
             [
              0.4444444444444444,
              "#bd3786"
             ],
             [
              0.5555555555555556,
              "#d8576b"
             ],
             [
              0.6666666666666666,
              "#ed7953"
             ],
             [
              0.7777777777777778,
              "#fb9f3a"
             ],
             [
              0.8888888888888888,
              "#fdca26"
             ],
             [
              1,
              "#f0f921"
             ]
            ],
            "type": "histogram2d"
           }
          ],
          "histogram2dcontour": [
           {
            "colorbar": {
             "outlinewidth": 0,
             "ticks": ""
            },
            "colorscale": [
             [
              0,
              "#0d0887"
             ],
             [
              0.1111111111111111,
              "#46039f"
             ],
             [
              0.2222222222222222,
              "#7201a8"
             ],
             [
              0.3333333333333333,
              "#9c179e"
             ],
             [
              0.4444444444444444,
              "#bd3786"
             ],
             [
              0.5555555555555556,
              "#d8576b"
             ],
             [
              0.6666666666666666,
              "#ed7953"
             ],
             [
              0.7777777777777778,
              "#fb9f3a"
             ],
             [
              0.8888888888888888,
              "#fdca26"
             ],
             [
              1,
              "#f0f921"
             ]
            ],
            "type": "histogram2dcontour"
           }
          ],
          "mesh3d": [
           {
            "colorbar": {
             "outlinewidth": 0,
             "ticks": ""
            },
            "type": "mesh3d"
           }
          ],
          "parcoords": [
           {
            "line": {
             "colorbar": {
              "outlinewidth": 0,
              "ticks": ""
             }
            },
            "type": "parcoords"
           }
          ],
          "pie": [
           {
            "automargin": true,
            "type": "pie"
           }
          ],
          "scatter": [
           {
            "fillpattern": {
             "fillmode": "overlay",
             "size": 10,
             "solidity": 0.2
            },
            "type": "scatter"
           }
          ],
          "scatter3d": [
           {
            "line": {
             "colorbar": {
              "outlinewidth": 0,
              "ticks": ""
             }
            },
            "marker": {
             "colorbar": {
              "outlinewidth": 0,
              "ticks": ""
             }
            },
            "type": "scatter3d"
           }
          ],
          "scattercarpet": [
           {
            "marker": {
             "colorbar": {
              "outlinewidth": 0,
              "ticks": ""
             }
            },
            "type": "scattercarpet"
           }
          ],
          "scattergeo": [
           {
            "marker": {
             "colorbar": {
              "outlinewidth": 0,
              "ticks": ""
             }
            },
            "type": "scattergeo"
           }
          ],
          "scattergl": [
           {
            "marker": {
             "colorbar": {
              "outlinewidth": 0,
              "ticks": ""
             }
            },
            "type": "scattergl"
           }
          ],
          "scattermap": [
           {
            "marker": {
             "colorbar": {
              "outlinewidth": 0,
              "ticks": ""
             }
            },
            "type": "scattermap"
           }
          ],
          "scattermapbox": [
           {
            "marker": {
             "colorbar": {
              "outlinewidth": 0,
              "ticks": ""
             }
            },
            "type": "scattermapbox"
           }
          ],
          "scatterpolar": [
           {
            "marker": {
             "colorbar": {
              "outlinewidth": 0,
              "ticks": ""
             }
            },
            "type": "scatterpolar"
           }
          ],
          "scatterpolargl": [
           {
            "marker": {
             "colorbar": {
              "outlinewidth": 0,
              "ticks": ""
             }
            },
            "type": "scatterpolargl"
           }
          ],
          "scatterternary": [
           {
            "marker": {
             "colorbar": {
              "outlinewidth": 0,
              "ticks": ""
             }
            },
            "type": "scatterternary"
           }
          ],
          "surface": [
           {
            "colorbar": {
             "outlinewidth": 0,
             "ticks": ""
            },
            "colorscale": [
             [
              0,
              "#0d0887"
             ],
             [
              0.1111111111111111,
              "#46039f"
             ],
             [
              0.2222222222222222,
              "#7201a8"
             ],
             [
              0.3333333333333333,
              "#9c179e"
             ],
             [
              0.4444444444444444,
              "#bd3786"
             ],
             [
              0.5555555555555556,
              "#d8576b"
             ],
             [
              0.6666666666666666,
              "#ed7953"
             ],
             [
              0.7777777777777778,
              "#fb9f3a"
             ],
             [
              0.8888888888888888,
              "#fdca26"
             ],
             [
              1,
              "#f0f921"
             ]
            ],
            "type": "surface"
           }
          ],
          "table": [
           {
            "cells": {
             "fill": {
              "color": "#EBF0F8"
             },
             "line": {
              "color": "white"
             }
            },
            "header": {
             "fill": {
              "color": "#C8D4E3"
             },
             "line": {
              "color": "white"
             }
            },
            "type": "table"
           }
          ]
         },
         "layout": {
          "annotationdefaults": {
           "arrowcolor": "#2a3f5f",
           "arrowhead": 0,
           "arrowwidth": 1
          },
          "autotypenumbers": "strict",
          "coloraxis": {
           "colorbar": {
            "outlinewidth": 0,
            "ticks": ""
           }
          },
          "colorscale": {
           "diverging": [
            [
             0,
             "#8e0152"
            ],
            [
             0.1,
             "#c51b7d"
            ],
            [
             0.2,
             "#de77ae"
            ],
            [
             0.3,
             "#f1b6da"
            ],
            [
             0.4,
             "#fde0ef"
            ],
            [
             0.5,
             "#f7f7f7"
            ],
            [
             0.6,
             "#e6f5d0"
            ],
            [
             0.7,
             "#b8e186"
            ],
            [
             0.8,
             "#7fbc41"
            ],
            [
             0.9,
             "#4d9221"
            ],
            [
             1,
             "#276419"
            ]
           ],
           "sequential": [
            [
             0,
             "#0d0887"
            ],
            [
             0.1111111111111111,
             "#46039f"
            ],
            [
             0.2222222222222222,
             "#7201a8"
            ],
            [
             0.3333333333333333,
             "#9c179e"
            ],
            [
             0.4444444444444444,
             "#bd3786"
            ],
            [
             0.5555555555555556,
             "#d8576b"
            ],
            [
             0.6666666666666666,
             "#ed7953"
            ],
            [
             0.7777777777777778,
             "#fb9f3a"
            ],
            [
             0.8888888888888888,
             "#fdca26"
            ],
            [
             1,
             "#f0f921"
            ]
           ],
           "sequentialminus": [
            [
             0,
             "#0d0887"
            ],
            [
             0.1111111111111111,
             "#46039f"
            ],
            [
             0.2222222222222222,
             "#7201a8"
            ],
            [
             0.3333333333333333,
             "#9c179e"
            ],
            [
             0.4444444444444444,
             "#bd3786"
            ],
            [
             0.5555555555555556,
             "#d8576b"
            ],
            [
             0.6666666666666666,
             "#ed7953"
            ],
            [
             0.7777777777777778,
             "#fb9f3a"
            ],
            [
             0.8888888888888888,
             "#fdca26"
            ],
            [
             1,
             "#f0f921"
            ]
           ]
          },
          "colorway": [
           "#636efa",
           "#EF553B",
           "#00cc96",
           "#ab63fa",
           "#FFA15A",
           "#19d3f3",
           "#FF6692",
           "#B6E880",
           "#FF97FF",
           "#FECB52"
          ],
          "font": {
           "color": "#2a3f5f"
          },
          "geo": {
           "bgcolor": "white",
           "lakecolor": "white",
           "landcolor": "#E5ECF6",
           "showlakes": true,
           "showland": true,
           "subunitcolor": "white"
          },
          "hoverlabel": {
           "align": "left"
          },
          "hovermode": "closest",
          "mapbox": {
           "style": "light"
          },
          "paper_bgcolor": "white",
          "plot_bgcolor": "#E5ECF6",
          "polar": {
           "angularaxis": {
            "gridcolor": "white",
            "linecolor": "white",
            "ticks": ""
           },
           "bgcolor": "#E5ECF6",
           "radialaxis": {
            "gridcolor": "white",
            "linecolor": "white",
            "ticks": ""
           }
          },
          "scene": {
           "xaxis": {
            "backgroundcolor": "#E5ECF6",
            "gridcolor": "white",
            "gridwidth": 2,
            "linecolor": "white",
            "showbackground": true,
            "ticks": "",
            "zerolinecolor": "white"
           },
           "yaxis": {
            "backgroundcolor": "#E5ECF6",
            "gridcolor": "white",
            "gridwidth": 2,
            "linecolor": "white",
            "showbackground": true,
            "ticks": "",
            "zerolinecolor": "white"
           },
           "zaxis": {
            "backgroundcolor": "#E5ECF6",
            "gridcolor": "white",
            "gridwidth": 2,
            "linecolor": "white",
            "showbackground": true,
            "ticks": "",
            "zerolinecolor": "white"
           }
          },
          "shapedefaults": {
           "line": {
            "color": "#2a3f5f"
           }
          },
          "ternary": {
           "aaxis": {
            "gridcolor": "white",
            "linecolor": "white",
            "ticks": ""
           },
           "baxis": {
            "gridcolor": "white",
            "linecolor": "white",
            "ticks": ""
           },
           "bgcolor": "#E5ECF6",
           "caxis": {
            "gridcolor": "white",
            "linecolor": "white",
            "ticks": ""
           }
          },
          "title": {
           "x": 0.05
          },
          "xaxis": {
           "automargin": true,
           "gridcolor": "white",
           "linecolor": "white",
           "ticks": "",
           "title": {
            "standoff": 15
           },
           "zerolinecolor": "white",
           "zerolinewidth": 2
          },
          "yaxis": {
           "automargin": true,
           "gridcolor": "white",
           "linecolor": "white",
           "ticks": "",
           "title": {
            "standoff": 15
           },
           "zerolinecolor": "white",
           "zerolinewidth": 2
          }
         }
        },
        "width": 800,
        "xaxis": {
         "anchor": "y",
         "domain": [
          0,
          1
         ],
         "title": {
          "font": {
           "color": "#FFFFFF",
           "size": 16
          },
          "text": "Payment Number"
         }
        },
        "yaxis": {
         "anchor": "x",
         "domain": [
          0,
          1
         ],
         "title": {
          "font": {
           "color": "#FFFFFF",
           "size": 16
          },
          "text": "Monthly Payment (€)"
         }
        }
       }
      }
     },
     "metadata": {},
     "output_type": "display_data"
    }
   ],
   "source": [
    "import plotly.express as px\n",
    "\n",
    "px.data_enhanced = pd.DataFrame(mortage_extra.get_amortization_schedule()).iloc[0::12]\n",
    "\n",
    "color_side = \"#212121\"\n",
    "color_bg = \"#616161\"\n",
    "color_box = \"#e0e0e0\"\n",
    "color_line = \"#FFFFFF\"\n",
    "color_text = \"#FFFFFF\"\n",
    "color_text_second = \"#707070\"\n",
    "color_text_third = \"#202020\"\n",
    "\n",
    "color_bar_price_1 = \"#D1E3F8\"\n",
    "color_bar_price_2 = \"#7AA9F7\"\n",
    "color_bar_price_3 = \"#2E5CB8\"\n",
    "\n",
    "color_bar_interest_1 = \"#f8d1d1\"\n",
    "color_bar_interest_2 = \"#f89696\"\n",
    "color_bar_interest_3 = \"#fa4f4f\"\n",
    "\n",
    "fig = px.bar(px.data_enhanced, x='Payment Number', y=['Interest', 'Regular Amortization', 'Additional Amortization'],\n",
    "             labels={\n",
    "                 'Payment Number': 'Payment Number',\n",
    "                 'value': 'Monthly Payment (€)',\n",
    "             })\n",
    "\n",
    "fig.update_xaxes(title_font=dict(size=16, color=color_text))\n",
    "fig.update_yaxes(title_font=dict(size=16, color=color_text))\n",
    "\n",
    "fig.update_layout(\n",
    "    width=800,\n",
    "    height=600,\n",
    "    plot_bgcolor=color_bg,\n",
    "    paper_bgcolor=color_bg,\n",
    "    font=dict(\n",
    "        color=color_text\n",
    "    ),\n",
    "    legend_title_text='',\n",
    "    legend=dict(\n",
    "        xanchor='right',\n",
    "        yanchor='top',\n",
    "        orientation='v',\n",
    "        font=dict(\n",
    "            color=color_text_third,\n",
    "            size=14\n",
    "        ),\n",
    "        bgcolor=color_box,  # Legend background color\n",
    "        bordercolor=color_line,     # Legend border color (optional)\n",
    "        borderwidth=3          # Legend border width (optional)\n",
    "    )\n",
    ")\n",
    "\n",
    "fig.show()"
   ]
  },
  {
   "cell_type": "code",
   "execution_count": 11,
   "id": "57e36457",
   "metadata": {},
   "outputs": [
    {
     "ename": "TypeError",
     "evalue": "'module' object is not subscriptable",
     "output_type": "error",
     "traceback": [
      "\u001b[1;31m---------------------------------------------------------------------------\u001b[0m",
      "\u001b[1;31mTypeError\u001b[0m                                 Traceback (most recent call last)",
      "Cell \u001b[1;32mIn[11], line 50\u001b[0m\n\u001b[0;32m     43\u001b[0m fig \u001b[38;5;241m=\u001b[39m make_subplots(rows\u001b[38;5;241m=\u001b[39m\u001b[38;5;241m2\u001b[39m, cols\u001b[38;5;241m=\u001b[39m\u001b[38;5;241m1\u001b[39m, \n\u001b[0;32m     44\u001b[0m                     shared_xaxes\u001b[38;5;241m=\u001b[39m\u001b[38;5;28;01mTrue\u001b[39;00m,\n\u001b[0;32m     45\u001b[0m                     vertical_spacing\u001b[38;5;241m=\u001b[39m\u001b[38;5;241m0.05\u001b[39m,\n\u001b[0;32m     46\u001b[0m                     )\n\u001b[0;32m     48\u001b[0m \u001b[38;5;66;03m# Plot 1\u001b[39;00m\n\u001b[0;32m     49\u001b[0m fig\u001b[38;5;241m.\u001b[39madd_trace(go\u001b[38;5;241m.\u001b[39mBar(\n\u001b[1;32m---> 50\u001b[0m     x\u001b[38;5;241m=\u001b[39m\u001b[43mpx\u001b[49m\u001b[38;5;241;43m.\u001b[39;49m\u001b[43mdata\u001b[49m\u001b[43m[\u001b[49m\u001b[38;5;124;43m'\u001b[39;49m\u001b[38;5;124;43mPayment Number\u001b[39;49m\u001b[38;5;124;43m'\u001b[39;49m\u001b[43m]\u001b[49m,\n\u001b[0;32m     51\u001b[0m     y\u001b[38;5;241m=\u001b[39mpx\u001b[38;5;241m.\u001b[39mdata[\u001b[38;5;124m'\u001b[39m\u001b[38;5;124mInterest\u001b[39m\u001b[38;5;124m'\u001b[39m],\n\u001b[0;32m     52\u001b[0m     name\u001b[38;5;241m=\u001b[39m\u001b[38;5;124m'\u001b[39m\u001b[38;5;124mInterest\u001b[39m\u001b[38;5;124m'\u001b[39m,\n\u001b[0;32m     53\u001b[0m     showlegend\u001b[38;5;241m=\u001b[39m\u001b[38;5;28;01mTrue\u001b[39;00m),\n\u001b[0;32m     54\u001b[0m     row\u001b[38;5;241m=\u001b[39m\u001b[38;5;241m1\u001b[39m,\n\u001b[0;32m     55\u001b[0m     col\u001b[38;5;241m=\u001b[39m\u001b[38;5;241m1\u001b[39m\n\u001b[0;32m     56\u001b[0m     )\n\u001b[0;32m     58\u001b[0m fig\u001b[38;5;241m.\u001b[39madd_trace(go\u001b[38;5;241m.\u001b[39mBar(\n\u001b[0;32m     59\u001b[0m     x\u001b[38;5;241m=\u001b[39mpx\u001b[38;5;241m.\u001b[39mdata[\u001b[38;5;124m'\u001b[39m\u001b[38;5;124mPayment Number\u001b[39m\u001b[38;5;124m'\u001b[39m],\n\u001b[0;32m     60\u001b[0m     y\u001b[38;5;241m=\u001b[39mpx\u001b[38;5;241m.\u001b[39mdata[\u001b[38;5;124m'\u001b[39m\u001b[38;5;124mRegular Amortization\u001b[39m\u001b[38;5;124m'\u001b[39m],\n\u001b[1;32m   (...)\u001b[0m\n\u001b[0;32m     64\u001b[0m     col\u001b[38;5;241m=\u001b[39m\u001b[38;5;241m1\u001b[39m\n\u001b[0;32m     65\u001b[0m     )\n\u001b[0;32m     67\u001b[0m fig\u001b[38;5;241m.\u001b[39madd_trace(go\u001b[38;5;241m.\u001b[39mBar(\n\u001b[0;32m     68\u001b[0m     x\u001b[38;5;241m=\u001b[39mpx\u001b[38;5;241m.\u001b[39mdata[\u001b[38;5;124m'\u001b[39m\u001b[38;5;124mPayment Number\u001b[39m\u001b[38;5;124m'\u001b[39m],\n\u001b[0;32m     69\u001b[0m     y\u001b[38;5;241m=\u001b[39mpx\u001b[38;5;241m.\u001b[39mdata[\u001b[38;5;124m'\u001b[39m\u001b[38;5;124mAdditional Amortization\u001b[39m\u001b[38;5;124m'\u001b[39m],\n\u001b[1;32m   (...)\u001b[0m\n\u001b[0;32m     73\u001b[0m     col\u001b[38;5;241m=\u001b[39m\u001b[38;5;241m1\u001b[39m\n\u001b[0;32m     74\u001b[0m )\n",
      "\u001b[1;31mTypeError\u001b[0m: 'module' object is not subscriptable"
     ]
    }
   ],
   "source": [
    "import plotly.io as pio\n",
    "import plotly.graph_objects as go\n",
    "from plotly.subplots import make_subplots\n",
    "\n",
    "# Define your custom template\n",
    "pio.templates[\"Streamlit\"] = go.layout.Template(\n",
    "    layout=go.Layout(\n",
    "        font=dict(size=16, color=color_text),\n",
    "        title_font=dict(size=22, color=color_text),\n",
    "        width=800,\n",
    "        height=500,\n",
    "        plot_bgcolor=color_bg,\n",
    "        paper_bgcolor=color_bg,\n",
    "        legend_title_text='',\n",
    "        legend=dict(\n",
    "            font=dict(size=14, color=color_text_third),\n",
    "            title_text='',\n",
    "            bgcolor=color_box,\n",
    "            bordercolor=color_line,\n",
    "            borderwidth=2,\n",
    "            xanchor=\"right\",\n",
    "            yanchor=\"top\",\n",
    "            orientation=\"v\"\n",
    "        ),\n",
    "        xaxis=dict(\n",
    "            tickfont=dict(size=14),\n",
    "            title_font=dict(size=18),\n",
    "        ),\n",
    "        yaxis=dict(\n",
    "            tickfont=dict(size=14),\n",
    "            title_font=dict(size=18),\n",
    "            gridcolor=color_line,\n",
    "        ),\n",
    "        # colorway=[\"#4A90E2\", \"#50E3C2\", \"#B82E2E\"],  # Custom color palette\n",
    "        colorway=[\"#4A90E2\", \"#3ECAAC\", \"#EC6161\"],  # Custom color palette\n",
    "        # colorway=[color_bar_interest_3, color_bar_price_2, \"#50E3C2\",],  # Custom color palette\n",
    "    )\n",
    ")\n",
    "\n",
    "pio.templates.default = \"Streamlit\"\n",
    "\n",
    "\n",
    "fig = make_subplots(rows=2, cols=1, \n",
    "                    shared_xaxes=True,\n",
    "                    vertical_spacing=0.05,\n",
    "                    )\n",
    "\n",
    "# Plot 1\n",
    "fig.add_trace(go.Bar(\n",
    "    x=px.data['Payment Number'],\n",
    "    y=px.data['Interest'],\n",
    "    name='Interest',\n",
    "    showlegend=True),\n",
    "    row=1,\n",
    "    col=1\n",
    "    )\n",
    "\n",
    "fig.add_trace(go.Bar(\n",
    "    x=px.data['Payment Number'],\n",
    "    y=px.data['Regular Amortization'],\n",
    "    name='Regular Amortization',\n",
    "    showlegend=True),\n",
    "    row=1,\n",
    "    col=1\n",
    "    )\n",
    "\n",
    "fig.add_trace(go.Bar(\n",
    "    x=px.data['Payment Number'],\n",
    "    y=px.data['Additional Amortization'],\n",
    "    name='Additional Amortization',\n",
    "    showlegend=True),\n",
    "    row=1,\n",
    "    col=1\n",
    ")\n",
    "\n",
    "# Plot 2\n",
    "fig.add_trace(go.Bar(\n",
    "    x=px.data_enhanced['Payment Number'],\n",
    "    y=px.data_enhanced['Interest'],\n",
    "    name='Interest',\n",
    "    showlegend=False),\n",
    "    row=2,\n",
    "    col=1\n",
    "    )\n",
    "\n",
    "fig.add_trace(go.Bar(\n",
    "    x=px.data_enhanced['Payment Number'],\n",
    "    y=px.data_enhanced['Regular Amortization'],\n",
    "    name='Regular Amortization',\n",
    "    showlegend=False),\n",
    "    row=2,\n",
    "    col=1\n",
    "    )\n",
    "\n",
    "fig.add_trace(go.Bar(\n",
    "    x=px.data_enhanced['Payment Number'],\n",
    "    y=px.data_enhanced['Additional Amortization'],\n",
    "    name='Additional Amortization',\n",
    "    showlegend=False),\n",
    "    row=2,\n",
    "    col=1\n",
    ")\n",
    "\n",
    "fig.update_layout(\n",
    "    width=900,\n",
    "    height=600,\n",
    "    barmode='stack',\n",
    "    xaxis_title='',\n",
    "    yaxis_title='',\n",
    ")\n",
    "\n",
    "fig.update_layout(\n",
    "    legend=dict(\n",
    "        orientation='h',        # horizontal legend\n",
    "        yanchor='bottom',\n",
    "        y=1,                 # slightly above the plot\n",
    "        xanchor='center',\n",
    "        x=0.5,                  # centered horizontally\n",
    "        title_text='',          # no legend title\n",
    "        bgcolor=color_box,# transparent background (optional)\n",
    "        font=dict(size=14, color='black')\n",
    "    )\n",
    ")\n",
    "\n",
    "fig.add_annotation(\n",
    "    xref='paper', yref='paper',\n",
    "    x=-0.08, y=0.5,\n",
    "    text='Payment (€)',  # Your global y-axis title\n",
    "    showarrow=False,\n",
    "    textangle=-90,\n",
    "    font=dict(size=18),\n",
    "    xanchor='center',\n",
    "    yanchor='middle'\n",
    ")\n",
    "\n",
    "\n",
    "fig.update_xaxes(title_text='', range=[-10, loan_term_years * 12], row=1, col=1)\n",
    "fig.update_yaxes(range=[-10, mortage_extra.get_amortization_schedule()['Total Payment'].max() * 1.1], row=1, col=1)\n",
    "\n",
    "fig.update_xaxes(title_text='Month', range=[-10, loan_term_years * 12], row=2, col=1)\n",
    "fig.update_yaxes(range=[-10, mortage_extra.get_amortization_schedule()['Total Payment'].max() * 1.1], row=2, col=1)\n"
   ]
  },
  {
   "cell_type": "code",
   "execution_count": null,
   "id": "ba3377c3",
   "metadata": {},
   "outputs": [
    {
     "data": {
      "application/vnd.plotly.v1+json": {
       "config": {
        "plotlyServerURL": "https://plot.ly"
       },
       "data": [
        {
         "hovertemplate": "=Interest<br>Payment Number=%{x}<br>Monthly Payment (€)=%{y}<extra></extra>",
         "legendgroup": "Interest",
         "marker": {
          "color": "#4A90E2",
          "pattern": {
           "shape": ""
          }
         },
         "name": "Interest",
         "orientation": "v",
         "showlegend": true,
         "textposition": "auto",
         "type": "bar",
         "x": {
          "bdata": "AQANABkAJQAxAD0ASQBVAGEAbQB5AIUAkQCdAKkAtQDBAM0A2QDlAPEA/QAJARUBIQEtATkB",
          "dtype": "i2"
         },
         "xaxis": "x",
         "y": {
          "bdata": "AAAAAAAGgkCF61G4HreAQBSuR+F6xH5AzczMzMwYfEDsUbgehXd5QDMzMzMzb3dA9ihcj8JtdUAAAAAAAHRzQEjhehSuD3JACtejcD2ucEC4HoXrUaBuQBSuR+F6BG1AKVyPwvVga0CuR+F6FLZpQOxRuB6FA2hAKVyPwvVIZkBmZmZmZoZkQOxRuB6Fu2JAcT0K16PoYECamZmZmRleQOF6FK5HUVpASOF6FK53VkDsUbgehYtSQHsUrkfhGk1AmpmZmZn5REBmZmZmZmY5QBSuR+F6FCFA",
          "dtype": "f8"
         },
         "yaxis": "y"
        },
        {
         "hovertemplate": "=Regular Amortization<br>Payment Number=%{x}<br>Monthly Payment (€)=%{y}<extra></extra>",
         "legendgroup": "Regular Amortization",
         "marker": {
          "color": "#3ECAAC",
          "pattern": {
           "shape": ""
          }
         },
         "name": "Regular Amortization",
         "orientation": "v",
         "showlegend": true,
         "textposition": "auto",
         "type": "bar",
         "x": {
          "bdata": "AQANABkAJQAxAD0ASQBVAGEAbQB5AIUAkQCdAKkAtQDBAM0A2QDlAPEA/QAJARUBIQEtATkB",
          "dtype": "i2"
         },
         "xaxis": "x",
         "y": {
          "bdata": "uB6F61EyiUAzMzMzM4GKQFyPwvUo1otAcT0K16O0ikBxPQrXo4aJQD0K16Nw0YhAmpmZmZkHiEApXI/C9SaHQKRwPQrX34ZASOF6FK6LhkDNzMzMzCiGQPYoXI/Cj4ZAcT0K16P4hkCPwvUoXGOHQAAAAAAA0IdAcT0K16M+iEDhehSuR6+IQAAAAAAAIolAH4XrUbiWiUCamZmZmQ2KQB+F61G4hopAUrgehesBi0A9CtejcH+LQDMzMzMz/4tA4XoUrkeBjEBI4XoUrgWNQMP1KFyPjI1A",
          "dtype": "f8"
         },
         "yaxis": "y"
        },
        {
         "hovertemplate": "=Additional Amortization<br>Payment Number=%{x}<br>Monthly Payment (€)=%{y}<extra></extra>",
         "legendgroup": "Additional Amortization",
         "marker": {
          "color": "#EC6161",
          "pattern": {
           "shape": ""
          }
         },
         "name": "Additional Amortization",
         "orientation": "v",
         "showlegend": true,
         "textposition": "auto",
         "type": "bar",
         "x": {
          "bdata": "AQANABkAJQAxAD0ASQBVAGEAbQB5AIUAkQCdAKkAtQDBAM0A2QDlAPEA/QAJARUBIQEtATkB",
          "dtype": "i2"
         },
         "xaxis": "x",
         "y": {
          "bdata": "AAAAAABwl0AAAAAAAHCXQAAAAAAAcJdAAAAAAABwl0AAAAAAAECPQAAAAAAAQI9AAAAAAABAj0AAAAAAAEB/QAAAAAAAQH9AAAAAAABAf0AAAAAAAAAAAAAAAAAAAAAAAAAAAAAAAAAAAAAAAAAAAAAAAAAAAAAAAAAAAAAAAAAAAAAAAAAAAAAAAAAAAAAAAAAAAAAAAAAAAAAAAAAAAAAAAAAAAAAAAAAAAAAAAAAAAAAAAAAAAAAAAAAAAAAAAAAAAAAAAAAAAAAAAAAAAAAAAAAAAAAA",
          "dtype": "f8"
         },
         "yaxis": "y"
        }
       ],
       "layout": {
        "barmode": "relative",
        "legend": {
         "title": {
          "text": ""
         },
         "tracegroupgap": 0
        },
        "margin": {
         "t": 60
        },
        "template": {
         "layout": {
          "colorway": [
           "#4A90E2",
           "#3ECAAC",
           "#EC6161"
          ],
          "font": {
           "color": "#FFFFFF",
           "size": 16
          },
          "height": 500,
          "legend": {
           "bgcolor": "#e0e0e0",
           "bordercolor": "#FFFFFF",
           "borderwidth": 2,
           "font": {
            "color": "#202020",
            "size": 14
           },
           "orientation": "v",
           "title": {
            "text": ""
           },
           "xanchor": "right",
           "yanchor": "top"
          },
          "paper_bgcolor": "#616161",
          "plot_bgcolor": "#616161",
          "title": {
           "font": {
            "color": "#FFFFFF",
            "size": 22
           }
          },
          "width": 800,
          "xaxis": {
           "tickfont": {
            "size": 14
           },
           "title": {
            "font": {
             "size": 18
            }
           }
          },
          "yaxis": {
           "gridcolor": "#FFFFFF",
           "tickfont": {
            "size": 14
           },
           "title": {
            "font": {
             "size": 18
            }
           }
          }
         }
        },
        "xaxis": {
         "anchor": "y",
         "domain": [
          0,
          1
         ],
         "title": {
          "text": "Payment Number"
         }
        },
        "yaxis": {
         "anchor": "x",
         "domain": [
          0,
          1
         ],
         "title": {
          "text": "Monthly Payment (€)"
         }
        }
       }
      }
     },
     "metadata": {},
     "output_type": "display_data"
    }
   ],
   "source": [
    "\n",
    "fig = px.bar(px.data_enhanced, x='Payment Number', y=['Interest', 'Regular Amortization', 'Additional Amortization'],\n",
    "             labels={\n",
    "                 'Payment Number': 'Payment Number',\n",
    "                 'value': 'Monthly Payment (€)',\n",
    "                 'variable': ''\n",
    "             })\n",
    "\n",
    "fig.show()\n"
   ]
  },
  {
   "cell_type": "code",
   "execution_count": null,
   "id": "d6992ee5",
   "metadata": {},
   "outputs": [
    {
     "data": {
      "application/vnd.plotly.v1+json": {
       "config": {
        "plotlyServerURL": "https://plot.ly"
       },
       "data": [
        {
         "hovertemplate": "=Interest<br>Payment Number=%{x}<br>Monthly Payment (€)=%{y}<extra></extra>",
         "legendgroup": "Interest",
         "marker": {
          "color": "#4A90E2",
          "pattern": {
           "shape": ""
          }
         },
         "name": "Interest",
         "orientation": "v",
         "showlegend": true,
         "textposition": "auto",
         "type": "bar",
         "x": {
          "bdata": "AQANABkAJQAxAD0ASQBVAGEAbQB5AIUAkQCdAKkAtQDBAM0A2QDlAPEA/QAJARUBIQEtATkBRQFRAV0B",
          "dtype": "i2"
         },
         "xaxis": "x",
         "y": {
          "bdata": "AAAAAAAGgkApXI/C9ZCBQPYoXI/CGYFAZmZmZmaggEDNzMzMzCSAQK5H4XoUTn9AUrgehetNfkCF61G4Hkl9QOxRuB6FP3xAhetRuB4xe0BSuB6F6x16QJqZmZmZBXlAXI/C9Sjod0CamZmZmcV2QFK4HoXrnXVAcT0K16NwdECuR+F6FD5zQPYoXI/CBXJAAAAAAADIcEBxPQrXowhvQD0K16NwdWxAZmZmZmbWaUAzMzMzMytnQKRwPQrXc2RAj8L1KFyvYUDNzMzMzLxdQHE9CtejAFhAmpmZmZkpUkCPwvUoXG9IQGZmZmZmpjhA",
          "dtype": "f8"
         },
         "yaxis": "y"
        },
        {
         "hovertemplate": "=Regular Amortization<br>Payment Number=%{x}<br>Monthly Payment (€)=%{y}<extra></extra>",
         "legendgroup": "Regular Amortization",
         "marker": {
          "color": "#3ECAAC",
          "pattern": {
           "shape": ""
          }
         },
         "name": "Regular Amortization",
         "orientation": "v",
         "showlegend": true,
         "textposition": "auto",
         "type": "bar",
         "x": {
          "bdata": "AQANABkAJQAxAD0ASQBVAGEAbQB5AIUAkQCdAKkAtQDBAM0A2QDlAPEA/QAJARUBIQEtATkBRQFRAV0B",
          "dtype": "i2"
         },
         "xaxis": "x",
         "y": {
          "bdata": "uB6F61EyiUCPwvUoXKeJQMP1KFyPHopAUrgeheuXikDsUbgehROLQOF6FK5HkYtAj8L1KFwRjED2KFyPwpOMQMP1KFyPGI1A9ihcj8KfjUA9CtejcCmOQOxRuB6FtY5ACtejcD1Ej0DsUbgehdWPQEjhehSuNJBAAAAAAACAkEBxPQrXo8yQQB+F61G4GpFAMzMzMzNqkUCuR+F6FLuRQBSuR+F6DZJAj8L1KFxhkkD2KFyPwraSQEjhehSuDZNACtejcD1mk0CPwvUoXMCTQIXrUbgeHJRAw/UoXI95lEBI4XoUrtiUQMP1KFyPOZVA",
          "dtype": "f8"
         },
         "yaxis": "y"
        },
        {
         "hovertemplate": "=Additional Amortization<br>Payment Number=%{x}<br>Monthly Payment (€)=%{y}<extra></extra>",
         "legendgroup": "Additional Amortization",
         "marker": {
          "color": "#EC6161",
          "pattern": {
           "shape": ""
          }
         },
         "name": "Additional Amortization",
         "orientation": "v",
         "showlegend": true,
         "textposition": "auto",
         "type": "bar",
         "x": {
          "bdata": "AQANABkAJQAxAD0ASQBVAGEAbQB5AIUAkQCdAKkAtQDBAM0A2QDlAPEA/QAJARUBIQEtATkBRQFRAV0B",
          "dtype": "i2"
         },
         "xaxis": "x",
         "y": {
          "bdata": "AAAAAAAAAAAAAAAAAAAAAAAAAAAAAAAAAAAAAAAAAAAAAAAAAAAAAAAAAAAAAAAAAAAAAAAAAAAAAAAAAAAAAAAAAAAAAAAAAAAAAAAAAAAAAAAAAAAAAAAAAAAAAAAAAAAAAAAAAAAAAAAAAAAAAAAAAAAAAAAAAAAAAAAAAAAAAAAAAAAAAAAAAAAAAAAAAAAAAAAAAAAAAAAAAAAAAAAAAAAAAAAAAAAAAAAAAAAAAAAAAAAAAAAAAAAAAAAAAAAAAAAAAAAAAAAAAAAAAAAAAAAAAAAAAAAAAAAAAAAAAAAAAAAAAAAAAAAAAAAA",
          "dtype": "f8"
         },
         "yaxis": "y"
        }
       ],
       "layout": {
        "barmode": "relative",
        "legend": {
         "title": {
          "text": ""
         },
         "tracegroupgap": 0
        },
        "margin": {
         "t": 60
        },
        "template": {
         "layout": {
          "colorway": [
           "#4A90E2",
           "#3ECAAC",
           "#EC6161"
          ],
          "font": {
           "color": "#FFFFFF",
           "size": 16
          },
          "height": 500,
          "legend": {
           "bgcolor": "#e0e0e0",
           "bordercolor": "#FFFFFF",
           "borderwidth": 2,
           "font": {
            "color": "#202020",
            "size": 14
           },
           "orientation": "v",
           "title": {
            "text": ""
           },
           "xanchor": "right",
           "yanchor": "top"
          },
          "paper_bgcolor": "#616161",
          "plot_bgcolor": "#616161",
          "title": {
           "font": {
            "color": "#FFFFFF",
            "size": 22
           }
          },
          "width": 800,
          "xaxis": {
           "tickfont": {
            "size": 14
           },
           "title": {
            "font": {
             "size": 18
            }
           }
          },
          "yaxis": {
           "gridcolor": "#FFFFFF",
           "tickfont": {
            "size": 14
           },
           "title": {
            "font": {
             "size": 18
            }
           }
          }
         }
        },
        "xaxis": {
         "anchor": "y",
         "domain": [
          0,
          1
         ],
         "title": {
          "text": "Payment Number"
         }
        },
        "yaxis": {
         "anchor": "x",
         "domain": [
          0,
          1
         ],
         "title": {
          "text": "Monthly Payment (€)"
         }
        }
       }
      }
     },
     "metadata": {},
     "output_type": "display_data"
    }
   ],
   "source": [
    "fig = px.bar(px.data, x='Payment Number', y=['Interest', 'Regular Amortization', 'Additional Amortization'],\n",
    "             labels={\n",
    "                 'Payment Number': 'Payment Number',\n",
    "                 'value': 'Monthly Payment (€)',\n",
    "                 'variable': ''\n",
    "             })\n",
    "\n",
    "fig.show()"
   ]
  },
  {
   "cell_type": "code",
   "execution_count": null,
   "id": "ec26aa9c",
   "metadata": {},
   "outputs": [
    {
     "data": {
      "application/vnd.plotly.v1+json": {
       "config": {
        "plotlyServerURL": "https://plot.ly"
       },
       "data": [
        {
         "hovertemplate": "=Interest<br>Payment Number=%{x}<br>Monthly Payment (€)=%{y}<extra></extra>",
         "legendgroup": "Interest",
         "marker": {
          "color": "#4A90E2",
          "pattern": {
           "shape": ""
          }
         },
         "name": "Interest",
         "orientation": "v",
         "showlegend": true,
         "textposition": "auto",
         "type": "bar",
         "x": {
          "bdata": "AQANABkAJQAxAD0ASQBVAGEAbQB5AIUAkQCdAKkAtQDBAM0A2QDlAPEA/QAJARUBIQEtATkBRQFRAV0B",
          "dtype": "i2"
         },
         "xaxis": "x",
         "y": {
          "bdata": "AAAAAAAGgkApXI/C9ZCBQPYoXI/CGYFAZmZmZmaggEDNzMzMzCSAQK5H4XoUTn9AUrgehetNfkCF61G4Hkl9QOxRuB6FP3xAhetRuB4xe0BSuB6F6x16QJqZmZmZBXlAXI/C9Sjod0CamZmZmcV2QFK4HoXrnXVAcT0K16NwdECuR+F6FD5zQPYoXI/CBXJAAAAAAADIcEBxPQrXowhvQD0K16NwdWxAZmZmZmbWaUAzMzMzMytnQKRwPQrXc2RAj8L1KFyvYUDNzMzMzLxdQHE9CtejAFhAmpmZmZkpUkCPwvUoXG9IQGZmZmZmpjhA",
          "dtype": "f8"
         },
         "yaxis": "y"
        },
        {
         "hovertemplate": "=Regular Amortization<br>Payment Number=%{x}<br>Monthly Payment (€)=%{y}<extra></extra>",
         "legendgroup": "Regular Amortization",
         "marker": {
          "color": "#3ECAAC",
          "pattern": {
           "shape": ""
          }
         },
         "name": "Regular Amortization",
         "orientation": "v",
         "showlegend": true,
         "textposition": "auto",
         "type": "bar",
         "x": {
          "bdata": "AQANABkAJQAxAD0ASQBVAGEAbQB5AIUAkQCdAKkAtQDBAM0A2QDlAPEA/QAJARUBIQEtATkBRQFRAV0B",
          "dtype": "i2"
         },
         "xaxis": "x",
         "y": {
          "bdata": "uB6F61EyiUCPwvUoXKeJQMP1KFyPHopAUrgeheuXikDsUbgehROLQOF6FK5HkYtAj8L1KFwRjED2KFyPwpOMQMP1KFyPGI1A9ihcj8KfjUA9CtejcCmOQOxRuB6FtY5ACtejcD1Ej0DsUbgehdWPQEjhehSuNJBAAAAAAACAkEBxPQrXo8yQQB+F61G4GpFAMzMzMzNqkUCuR+F6FLuRQBSuR+F6DZJAj8L1KFxhkkD2KFyPwraSQEjhehSuDZNACtejcD1mk0CPwvUoXMCTQIXrUbgeHJRAw/UoXI95lEBI4XoUrtiUQMP1KFyPOZVA",
          "dtype": "f8"
         },
         "yaxis": "y"
        },
        {
         "hovertemplate": "=Additional Amortization<br>Payment Number=%{x}<br>Monthly Payment (€)=%{y}<extra></extra>",
         "legendgroup": "Additional Amortization",
         "marker": {
          "color": "#EC6161",
          "pattern": {
           "shape": ""
          }
         },
         "name": "Additional Amortization",
         "orientation": "v",
         "showlegend": true,
         "textposition": "auto",
         "type": "bar",
         "x": {
          "bdata": "AQANABkAJQAxAD0ASQBVAGEAbQB5AIUAkQCdAKkAtQDBAM0A2QDlAPEA/QAJARUBIQEtATkBRQFRAV0B",
          "dtype": "i2"
         },
         "xaxis": "x",
         "y": {
          "bdata": "AAAAAAAAAAAAAAAAAAAAAAAAAAAAAAAAAAAAAAAAAAAAAAAAAAAAAAAAAAAAAAAAAAAAAAAAAAAAAAAAAAAAAAAAAAAAAAAAAAAAAAAAAAAAAAAAAAAAAAAAAAAAAAAAAAAAAAAAAAAAAAAAAAAAAAAAAAAAAAAAAAAAAAAAAAAAAAAAAAAAAAAAAAAAAAAAAAAAAAAAAAAAAAAAAAAAAAAAAAAAAAAAAAAAAAAAAAAAAAAAAAAAAAAAAAAAAAAAAAAAAAAAAAAAAAAAAAAAAAAAAAAAAAAAAAAAAAAAAAAAAAAAAAAAAAAAAAAAAAAA",
          "dtype": "f8"
         },
         "yaxis": "y"
        }
       ],
       "layout": {
        "barmode": "relative",
        "legend": {
         "bgcolor": "#e0e0e0",
         "font": {
          "color": "black",
          "size": 14
         },
         "orientation": "h",
         "title": {
          "text": ""
         },
         "tracegroupgap": 0,
         "x": 0.5,
         "xanchor": "center",
         "y": 0.97,
         "yanchor": "bottom"
        },
        "margin": {
         "t": 60
        },
        "template": {
         "layout": {
          "colorway": [
           "#4A90E2",
           "#3ECAAC",
           "#EC6161"
          ],
          "font": {
           "color": "#FFFFFF",
           "size": 16
          },
          "height": 500,
          "legend": {
           "bgcolor": "#e0e0e0",
           "bordercolor": "#FFFFFF",
           "borderwidth": 2,
           "font": {
            "color": "#202020",
            "size": 14
           },
           "orientation": "v",
           "title": {
            "text": ""
           },
           "xanchor": "right",
           "yanchor": "top"
          },
          "paper_bgcolor": "#616161",
          "plot_bgcolor": "#616161",
          "title": {
           "font": {
            "color": "#FFFFFF",
            "size": 22
           }
          },
          "width": 800,
          "xaxis": {
           "tickfont": {
            "size": 14
           },
           "title": {
            "font": {
             "size": 18
            }
           }
          },
          "yaxis": {
           "gridcolor": "#FFFFFF",
           "tickfont": {
            "size": 14
           },
           "title": {
            "font": {
             "size": 18
            }
           }
          }
         }
        },
        "xaxis": {
         "anchor": "y",
         "domain": [
          0,
          1
         ],
         "title": {
          "text": "Payment Number"
         }
        },
        "yaxis": {
         "anchor": "x",
         "domain": [
          0,
          1
         ],
         "title": {
          "text": "Monthly Payment (€)"
         }
        }
       }
      }
     },
     "metadata": {},
     "output_type": "display_data"
    }
   ],
   "source": [
    "px.data = pd.DataFrame(mortage.get_amortization_schedule()).iloc[0::12]\n",
    "fig = px.bar(px.data, x='Payment Number', y=['Interest', 'Regular Amortization', 'Additional Amortization'],\n",
    "             labels={\n",
    "                 'Payment Number': 'Payment Number',\n",
    "                 'value': 'Monthly Payment (€)',\n",
    "                 'variable': ''\n",
    "             })\n",
    "\n",
    "fig.update_layout(\n",
    "    legend=dict(\n",
    "        orientation='h',\n",
    "        yanchor='bottom',\n",
    "        y=0.97,\n",
    "        xanchor='center',\n",
    "        x=0.5,\n",
    "        title_text='',\n",
    "        bgcolor=color_box,\n",
    "        font=dict(size=14, color='black')\n",
    "    )\n",
    ")\n",
    "\n",
    "fig.show()"
   ]
  },
  {
   "cell_type": "code",
   "execution_count": 18,
   "id": "a3c42d26",
   "metadata": {},
   "outputs": [
    {
     "data": {
      "application/vnd.plotly.v1+json": {
       "config": {
        "plotlyServerURL": "https://plot.ly"
       },
       "data": [
        {
         "name": "Interest",
         "showlegend": true,
         "type": "bar",
         "x": {
          "bdata": "AQANABkAJQAxAD0ASQBVAGEAbQB5AIUAkQCdAKkAtQDBAM0A2QDlAPEA/QAJARUBIQEtATkBRQFRAV0B",
          "dtype": "i2"
         },
         "xaxis": "x",
         "y": {
          "bdata": "AAAAAAAGgkApXI/C9ZCBQPYoXI/CGYFAZmZmZmaggEDNzMzMzCSAQK5H4XoUTn9AUrgehetNfkCF61G4Hkl9QOxRuB6FP3xAhetRuB4xe0BSuB6F6x16QJqZmZmZBXlAXI/C9Sjod0CamZmZmcV2QFK4HoXrnXVAcT0K16NwdECuR+F6FD5zQPYoXI/CBXJAAAAAAADIcEBxPQrXowhvQD0K16NwdWxAZmZmZmbWaUAzMzMzMytnQKRwPQrXc2RAj8L1KFyvYUDNzMzMzLxdQHE9CtejAFhAmpmZmZkpUkCPwvUoXG9IQGZmZmZmpjhA",
          "dtype": "f8"
         },
         "yaxis": "y"
        },
        {
         "name": "Regular Amortization",
         "showlegend": true,
         "type": "bar",
         "x": {
          "bdata": "AQANABkAJQAxAD0ASQBVAGEAbQB5AIUAkQCdAKkAtQDBAM0A2QDlAPEA/QAJARUBIQEtATkBRQFRAV0B",
          "dtype": "i2"
         },
         "xaxis": "x",
         "y": {
          "bdata": "uB6F61EyiUCPwvUoXKeJQMP1KFyPHopAUrgeheuXikDsUbgehROLQOF6FK5HkYtAj8L1KFwRjED2KFyPwpOMQMP1KFyPGI1A9ihcj8KfjUA9CtejcCmOQOxRuB6FtY5ACtejcD1Ej0DsUbgehdWPQEjhehSuNJBAAAAAAACAkEBxPQrXo8yQQB+F61G4GpFAMzMzMzNqkUCuR+F6FLuRQBSuR+F6DZJAj8L1KFxhkkD2KFyPwraSQEjhehSuDZNACtejcD1mk0CPwvUoXMCTQIXrUbgeHJRAw/UoXI95lEBI4XoUrtiUQMP1KFyPOZVA",
          "dtype": "f8"
         },
         "yaxis": "y"
        },
        {
         "name": "Additional Amortization",
         "showlegend": true,
         "type": "bar",
         "x": {
          "bdata": "AQANABkAJQAxAD0ASQBVAGEAbQB5AIUAkQCdAKkAtQDBAM0A2QDlAPEA/QAJARUBIQEtATkBRQFRAV0B",
          "dtype": "i2"
         },
         "xaxis": "x",
         "y": {
          "bdata": "AAAAAAAAAAAAAAAAAAAAAAAAAAAAAAAAAAAAAAAA",
          "dtype": "i1"
         },
         "yaxis": "y"
        },
        {
         "name": "Interest",
         "showlegend": false,
         "type": "bar",
         "x": {
          "bdata": "AQANABkAJQAxAD0ASQBVAGEAbQB5AIUAkQCdAKkAtQDBAM0A2QDlAPEA/QAJARUBIQEtATkB",
          "dtype": "i2"
         },
         "xaxis": "x2",
         "y": {
          "bdata": "AAAAAAAGgkCF61G4HreAQBSuR+F6xH5AzczMzMwYfEDsUbgehXd5QDMzMzMzb3dA9ihcj8JtdUAAAAAAAHRzQEjhehSuD3JACtejcD2ucEC4HoXrUaBuQBSuR+F6BG1AKVyPwvVga0CuR+F6FLZpQOxRuB6FA2hAKVyPwvVIZkBmZmZmZoZkQOxRuB6Fu2JAcT0K16PoYECamZmZmRleQOF6FK5HUVpASOF6FK53VkDsUbgehYtSQHsUrkfhGk1AmpmZmZn5REBmZmZmZmY5QBSuR+F6FCFA",
          "dtype": "f8"
         },
         "yaxis": "y2"
        },
        {
         "name": "Regular Amortization",
         "showlegend": false,
         "type": "bar",
         "x": {
          "bdata": "AQANABkAJQAxAD0ASQBVAGEAbQB5AIUAkQCdAKkAtQDBAM0A2QDlAPEA/QAJARUBIQEtATkB",
          "dtype": "i2"
         },
         "xaxis": "x2",
         "y": {
          "bdata": "uB6F61EyiUAzMzMzM4GKQFyPwvUo1otAcT0K16O0ikBxPQrXo4aJQD0K16Nw0YhAmpmZmZkHiEApXI/C9SaHQKRwPQrX34ZASOF6FK6LhkDNzMzMzCiGQPYoXI/Cj4ZAcT0K16P4hkCPwvUoXGOHQAAAAAAA0IdAcT0K16M+iEDhehSuR6+IQAAAAAAAIolAH4XrUbiWiUCamZmZmQ2KQB+F61G4hopAUrgehesBi0A9CtejcH+LQDMzMzMz/4tA4XoUrkeBjEBI4XoUrgWNQMP1KFyPjI1A",
          "dtype": "f8"
         },
         "yaxis": "y2"
        },
        {
         "name": "Additional Amortization",
         "showlegend": false,
         "type": "bar",
         "x": {
          "bdata": "AQANABkAJQAxAD0ASQBVAGEAbQB5AIUAkQCdAKkAtQDBAM0A2QDlAPEA/QAJARUBIQEtATkB",
          "dtype": "i2"
         },
         "xaxis": "x2",
         "y": {
          "bdata": "3AXcBdwF3AXoA+gD6AP0AfQB9AEAAAAAAAAAAAAAAAAAAAAAAAAAAAAAAAAAAAAAAAAAAAAA",
          "dtype": "i2"
         },
         "yaxis": "y2"
        }
       ],
       "layout": {
        "annotations": [
         {
          "font": {
           "size": 18
          },
          "showarrow": false,
          "text": "Payment (€)",
          "textangle": -90,
          "x": -0.08,
          "xanchor": "center",
          "xref": "paper",
          "y": 0.5,
          "yanchor": "middle",
          "yref": "paper"
         }
        ],
        "barmode": "stack",
        "height": 600,
        "legend": {
         "bgcolor": "#e0e0e0",
         "font": {
          "color": "black",
          "size": 14
         },
         "orientation": "h",
         "title": {
          "text": ""
         },
         "x": 0.5,
         "xanchor": "center",
         "y": 1,
         "yanchor": "bottom"
        },
        "template": {
         "layout": {
          "colorway": [
           "#4A90E2",
           "#3ECAAC",
           "#EC6161"
          ],
          "font": {
           "color": "#FFFFFF",
           "size": 16
          },
          "height": 500,
          "legend": {
           "bgcolor": "#e0e0e0",
           "bordercolor": "#FFFFFF",
           "borderwidth": 2,
           "font": {
            "color": "#202020",
            "size": 14
           },
           "orientation": "v",
           "title": {
            "text": ""
           },
           "xanchor": "right",
           "yanchor": "top"
          },
          "paper_bgcolor": "#616161",
          "plot_bgcolor": "#616161",
          "title": {
           "font": {
            "color": "#FFFFFF",
            "size": 22
           }
          },
          "width": 800,
          "xaxis": {
           "tickfont": {
            "size": 14
           },
           "title": {
            "font": {
             "size": 18
            }
           }
          },
          "yaxis": {
           "gridcolor": "#FFFFFF",
           "tickfont": {
            "size": 14
           },
           "title": {
            "font": {
             "size": 18
            }
           }
          }
         }
        },
        "width": 900,
        "xaxis": {
         "anchor": "y",
         "domain": [
          0,
          1
         ],
         "matches": "x2",
         "range": [
          -10,
          360
         ],
         "showticklabels": false,
         "title": {
          "text": ""
         }
        },
        "xaxis2": {
         "anchor": "y2",
         "domain": [
          0,
          1
         ],
         "range": [
          -10,
          360
         ],
         "title": {
          "text": "Month"
         }
        },
        "yaxis": {
         "anchor": "x",
         "domain": [
          0.525,
          1
         ],
         "range": [
          -10,
          3171.344
         ],
         "title": {
          "text": ""
         }
        },
        "yaxis2": {
         "anchor": "x2",
         "domain": [
          0,
          0.475
         ],
         "range": [
          -10,
          3171.344
         ]
        }
       }
      }
     },
     "metadata": {},
     "output_type": "display_data"
    }
   ],
   "source": [
    "from GraphicClass import GraphicClass\n",
    "\n",
    "params = {\n",
    "    'color_side': \"#212121\",\n",
    "    'color_bg': \"#616161\",\n",
    "    'color_box': \"#e0e0e0\",\n",
    "    'color_line': \"#FFFFFF\",\n",
    "    'color_text': \"#FFFFFF\",\n",
    "    'color_text_second': \"#707070\",\n",
    "    'color_text_third': \"#202020\",\n",
    "    'color_bar_price_1': \"#D1E3F8\",\n",
    "    'color_bar_price_2': \"#7AA9F7\",\n",
    "    'color_bar_price_3': \"#2E5CB8\",\n",
    "    'color_bar_interest_1': \"#f8d1d1\",\n",
    "    'color_bar_interest_2': \"#f89696\",\n",
    "    'color_bar_interest_3': \"#fa4f4f\",\n",
    "    'box_width': \"400px\",\n",
    "    'box_gap': \"32px\"\n",
    "}\n",
    "\n",
    "graphics = GraphicClass(mortage, mortage_extra, params)\n",
    "bars = graphics.monthly_payment_graph()\n",
    "bars.show()"
   ]
  },
  {
   "cell_type": "code",
   "execution_count": null,
   "id": "12a1ba0f",
   "metadata": {},
   "outputs": [],
   "source": []
  }
 ],
 "metadata": {
  "kernelspec": {
   "display_name": "github-env",
   "language": "python",
   "name": "python3"
  },
  "language_info": {
   "codemirror_mode": {
    "name": "ipython",
    "version": 3
   },
   "file_extension": ".py",
   "mimetype": "text/x-python",
   "name": "python",
   "nbconvert_exporter": "python",
   "pygments_lexer": "ipython3",
   "version": "3.12.7"
  }
 },
 "nbformat": 4,
 "nbformat_minor": 5
}
