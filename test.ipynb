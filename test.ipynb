{
 "cells": [
  {
   "cell_type": "code",
   "execution_count": 17,
   "id": "36d04a77",
   "metadata": {},
   "outputs": [
    {
     "name": "stdout",
     "output_type": "stream",
     "text": [
      "The autoreload extension is already loaded. To reload it, use:\n",
      "  %reload_ext autoreload\n"
     ]
    }
   ],
   "source": [
    "%load_ext autoreload\n",
    "%autoreload 2\n"
   ]
  },
  {
   "cell_type": "code",
   "execution_count": 18,
   "id": "d04ce57f",
   "metadata": {},
   "outputs": [],
   "source": [
    "from MortgageClass import MortgageCalculator"
   ]
  },
  {
   "cell_type": "code",
   "execution_count": 19,
   "id": "93043041",
   "metadata": {},
   "outputs": [],
   "source": [
    "house_price = 425000\n",
    "down_payment = 70000\n",
    "interest_rate = 1.8\n",
    "loan_term_years = 30\n",
    "cost = 2000\n",
    "taxes = 6\n"
   ]
  },
  {
   "cell_type": "code",
   "execution_count": 20,
   "id": "fe3884de",
   "metadata": {},
   "outputs": [
    {
     "data": {
      "text/html": [
       "<div>\n",
       "<style scoped>\n",
       "    .dataframe tbody tr th:only-of-type {\n",
       "        vertical-align: middle;\n",
       "    }\n",
       "\n",
       "    .dataframe tbody tr th {\n",
       "        vertical-align: top;\n",
       "    }\n",
       "\n",
       "    .dataframe thead th {\n",
       "        text-align: right;\n",
       "    }\n",
       "</style>\n",
       "<table border=\"1\" class=\"dataframe\">\n",
       "  <thead>\n",
       "    <tr style=\"text-align: right;\">\n",
       "      <th></th>\n",
       "      <th>Payment Number</th>\n",
       "      <th>Monthly Payment</th>\n",
       "      <th>Total Payment</th>\n",
       "      <th>Regular Amortization</th>\n",
       "      <th>Additional Amortization</th>\n",
       "      <th>Total Amortization</th>\n",
       "      <th>Amortization Type</th>\n",
       "      <th>Interest</th>\n",
       "      <th>Remaining Balance</th>\n",
       "      <th>Accrued Interest</th>\n",
       "      <th>Remaining Months</th>\n",
       "      <th>Remaining Balance (after payment)</th>\n",
       "    </tr>\n",
       "  </thead>\n",
       "  <tbody>\n",
       "    <tr>\n",
       "      <th>0</th>\n",
       "      <td>1</td>\n",
       "      <td>1383.04</td>\n",
       "      <td>1383.04</td>\n",
       "      <td>806.29</td>\n",
       "      <td>0</td>\n",
       "      <td>806.29</td>\n",
       "      <td>0</td>\n",
       "      <td>576.75</td>\n",
       "      <td>383693.71</td>\n",
       "      <td>576.75</td>\n",
       "      <td>359</td>\n",
       "      <td>383693.71</td>\n",
       "    </tr>\n",
       "    <tr>\n",
       "      <th>1</th>\n",
       "      <td>2</td>\n",
       "      <td>1383.04</td>\n",
       "      <td>1383.04</td>\n",
       "      <td>807.50</td>\n",
       "      <td>0</td>\n",
       "      <td>807.50</td>\n",
       "      <td>0</td>\n",
       "      <td>575.54</td>\n",
       "      <td>382886.21</td>\n",
       "      <td>1152.29</td>\n",
       "      <td>358</td>\n",
       "      <td>382886.21</td>\n",
       "    </tr>\n",
       "    <tr>\n",
       "      <th>2</th>\n",
       "      <td>3</td>\n",
       "      <td>1383.04</td>\n",
       "      <td>1383.04</td>\n",
       "      <td>808.71</td>\n",
       "      <td>0</td>\n",
       "      <td>808.71</td>\n",
       "      <td>0</td>\n",
       "      <td>574.33</td>\n",
       "      <td>382077.50</td>\n",
       "      <td>1726.62</td>\n",
       "      <td>357</td>\n",
       "      <td>382077.50</td>\n",
       "    </tr>\n",
       "    <tr>\n",
       "      <th>3</th>\n",
       "      <td>4</td>\n",
       "      <td>1383.04</td>\n",
       "      <td>1383.04</td>\n",
       "      <td>809.92</td>\n",
       "      <td>0</td>\n",
       "      <td>809.92</td>\n",
       "      <td>0</td>\n",
       "      <td>573.12</td>\n",
       "      <td>381267.57</td>\n",
       "      <td>2299.74</td>\n",
       "      <td>356</td>\n",
       "      <td>381267.57</td>\n",
       "    </tr>\n",
       "    <tr>\n",
       "      <th>4</th>\n",
       "      <td>5</td>\n",
       "      <td>1383.04</td>\n",
       "      <td>1383.04</td>\n",
       "      <td>811.14</td>\n",
       "      <td>0</td>\n",
       "      <td>811.14</td>\n",
       "      <td>0</td>\n",
       "      <td>571.90</td>\n",
       "      <td>380456.43</td>\n",
       "      <td>2871.64</td>\n",
       "      <td>355</td>\n",
       "      <td>380456.43</td>\n",
       "    </tr>\n",
       "    <tr>\n",
       "      <th>...</th>\n",
       "      <td>...</td>\n",
       "      <td>...</td>\n",
       "      <td>...</td>\n",
       "      <td>...</td>\n",
       "      <td>...</td>\n",
       "      <td>...</td>\n",
       "      <td>...</td>\n",
       "      <td>...</td>\n",
       "      <td>...</td>\n",
       "      <td>...</td>\n",
       "      <td>...</td>\n",
       "      <td>...</td>\n",
       "    </tr>\n",
       "    <tr>\n",
       "      <th>355</th>\n",
       "      <td>356</td>\n",
       "      <td>1383.04</td>\n",
       "      <td>1383.04</td>\n",
       "      <td>1372.71</td>\n",
       "      <td>0</td>\n",
       "      <td>1372.71</td>\n",
       "      <td>0</td>\n",
       "      <td>10.33</td>\n",
       "      <td>5511.48</td>\n",
       "      <td>113373.97</td>\n",
       "      <td>4</td>\n",
       "      <td>5511.48</td>\n",
       "    </tr>\n",
       "    <tr>\n",
       "      <th>356</th>\n",
       "      <td>357</td>\n",
       "      <td>1383.04</td>\n",
       "      <td>1383.04</td>\n",
       "      <td>1374.77</td>\n",
       "      <td>0</td>\n",
       "      <td>1374.77</td>\n",
       "      <td>0</td>\n",
       "      <td>8.27</td>\n",
       "      <td>4136.71</td>\n",
       "      <td>113382.24</td>\n",
       "      <td>3</td>\n",
       "      <td>4136.71</td>\n",
       "    </tr>\n",
       "    <tr>\n",
       "      <th>357</th>\n",
       "      <td>358</td>\n",
       "      <td>1383.04</td>\n",
       "      <td>1383.04</td>\n",
       "      <td>1376.84</td>\n",
       "      <td>0</td>\n",
       "      <td>1376.84</td>\n",
       "      <td>0</td>\n",
       "      <td>6.21</td>\n",
       "      <td>2759.87</td>\n",
       "      <td>113388.45</td>\n",
       "      <td>2</td>\n",
       "      <td>2759.87</td>\n",
       "    </tr>\n",
       "    <tr>\n",
       "      <th>358</th>\n",
       "      <td>359</td>\n",
       "      <td>1383.04</td>\n",
       "      <td>1383.04</td>\n",
       "      <td>1378.90</td>\n",
       "      <td>0</td>\n",
       "      <td>1378.90</td>\n",
       "      <td>0</td>\n",
       "      <td>4.14</td>\n",
       "      <td>1380.97</td>\n",
       "      <td>113392.59</td>\n",
       "      <td>1</td>\n",
       "      <td>1380.97</td>\n",
       "    </tr>\n",
       "    <tr>\n",
       "      <th>359</th>\n",
       "      <td>360</td>\n",
       "      <td>1383.04</td>\n",
       "      <td>1383.04</td>\n",
       "      <td>1380.97</td>\n",
       "      <td>0</td>\n",
       "      <td>1380.97</td>\n",
       "      <td>0</td>\n",
       "      <td>2.07</td>\n",
       "      <td>0.00</td>\n",
       "      <td>113394.66</td>\n",
       "      <td>0</td>\n",
       "      <td>0.00</td>\n",
       "    </tr>\n",
       "  </tbody>\n",
       "</table>\n",
       "<p>360 rows × 12 columns</p>\n",
       "</div>"
      ],
      "text/plain": [
       "     Payment Number  Monthly Payment  Total Payment  Regular Amortization  \\\n",
       "0                 1          1383.04        1383.04                806.29   \n",
       "1                 2          1383.04        1383.04                807.50   \n",
       "2                 3          1383.04        1383.04                808.71   \n",
       "3                 4          1383.04        1383.04                809.92   \n",
       "4                 5          1383.04        1383.04                811.14   \n",
       "..              ...              ...            ...                   ...   \n",
       "355             356          1383.04        1383.04               1372.71   \n",
       "356             357          1383.04        1383.04               1374.77   \n",
       "357             358          1383.04        1383.04               1376.84   \n",
       "358             359          1383.04        1383.04               1378.90   \n",
       "359             360          1383.04        1383.04               1380.97   \n",
       "\n",
       "     Additional Amortization  Total Amortization  Amortization Type  Interest  \\\n",
       "0                          0              806.29                  0    576.75   \n",
       "1                          0              807.50                  0    575.54   \n",
       "2                          0              808.71                  0    574.33   \n",
       "3                          0              809.92                  0    573.12   \n",
       "4                          0              811.14                  0    571.90   \n",
       "..                       ...                 ...                ...       ...   \n",
       "355                        0             1372.71                  0     10.33   \n",
       "356                        0             1374.77                  0      8.27   \n",
       "357                        0             1376.84                  0      6.21   \n",
       "358                        0             1378.90                  0      4.14   \n",
       "359                        0             1380.97                  0      2.07   \n",
       "\n",
       "     Remaining Balance  Accrued Interest  Remaining Months  \\\n",
       "0            383693.71            576.75               359   \n",
       "1            382886.21           1152.29               358   \n",
       "2            382077.50           1726.62               357   \n",
       "3            381267.57           2299.74               356   \n",
       "4            380456.43           2871.64               355   \n",
       "..                 ...               ...               ...   \n",
       "355            5511.48         113373.97                 4   \n",
       "356            4136.71         113382.24                 3   \n",
       "357            2759.87         113388.45                 2   \n",
       "358            1380.97         113392.59                 1   \n",
       "359               0.00         113394.66                 0   \n",
       "\n",
       "     Remaining Balance (after payment)  \n",
       "0                            383693.71  \n",
       "1                            382886.21  \n",
       "2                            382077.50  \n",
       "3                            381267.57  \n",
       "4                            380456.43  \n",
       "..                                 ...  \n",
       "355                            5511.48  \n",
       "356                            4136.71  \n",
       "357                            2759.87  \n",
       "358                            1380.97  \n",
       "359                               0.00  \n",
       "\n",
       "[360 rows x 12 columns]"
      ]
     },
     "execution_count": 20,
     "metadata": {},
     "output_type": "execute_result"
    }
   ],
   "source": [
    "mortgage = MortgageCalculator(house_price, down_payment, interest_rate, loan_term_years, cost, taxes)\n",
    "mortgage.run()\n",
    "mortgage.get_amortization_schedule()"
   ]
  },
  {
   "cell_type": "code",
   "execution_count": 21,
   "id": "5f93b00d",
   "metadata": {},
   "outputs": [
    {
     "data": {
      "text/html": [
       "<div>\n",
       "<style scoped>\n",
       "    .dataframe tbody tr th:only-of-type {\n",
       "        vertical-align: middle;\n",
       "    }\n",
       "\n",
       "    .dataframe tbody tr th {\n",
       "        vertical-align: top;\n",
       "    }\n",
       "\n",
       "    .dataframe thead th {\n",
       "        text-align: right;\n",
       "    }\n",
       "</style>\n",
       "<table border=\"1\" class=\"dataframe\">\n",
       "  <thead>\n",
       "    <tr style=\"text-align: right;\">\n",
       "      <th></th>\n",
       "      <th>Month</th>\n",
       "      <th>Amortization</th>\n",
       "      <th>Type</th>\n",
       "    </tr>\n",
       "  </thead>\n",
       "  <tbody>\n",
       "    <tr>\n",
       "      <th>0</th>\n",
       "      <td>1</td>\n",
       "      <td>1500</td>\n",
       "      <td>Term</td>\n",
       "    </tr>\n",
       "    <tr>\n",
       "      <th>1</th>\n",
       "      <td>2</td>\n",
       "      <td>1500</td>\n",
       "      <td>Term</td>\n",
       "    </tr>\n",
       "    <tr>\n",
       "      <th>2</th>\n",
       "      <td>3</td>\n",
       "      <td>1500</td>\n",
       "      <td>Term</td>\n",
       "    </tr>\n",
       "    <tr>\n",
       "      <th>3</th>\n",
       "      <td>4</td>\n",
       "      <td>1500</td>\n",
       "      <td>Term</td>\n",
       "    </tr>\n",
       "    <tr>\n",
       "      <th>4</th>\n",
       "      <td>5</td>\n",
       "      <td>1500</td>\n",
       "      <td>Term</td>\n",
       "    </tr>\n",
       "  </tbody>\n",
       "</table>\n",
       "</div>"
      ],
      "text/plain": [
       "   Month  Amortization  Type\n",
       "0      1          1500  Term\n",
       "1      2          1500  Term\n",
       "2      3          1500  Term\n",
       "3      4          1500  Term\n",
       "4      5          1500  Term"
      ]
     },
     "execution_count": 21,
     "metadata": {},
     "output_type": "execute_result"
    }
   ],
   "source": [
    "import pandas as pd\n",
    "amortization_df = pd.read_csv('amortization_schedule.csv', delimiter=';')\n",
    "amortization_df.head()"
   ]
  },
  {
   "cell_type": "code",
   "execution_count": 22,
   "id": "d891f29a",
   "metadata": {},
   "outputs": [
    {
     "data": {
      "text/html": [
       "<div>\n",
       "<style scoped>\n",
       "    .dataframe tbody tr th:only-of-type {\n",
       "        vertical-align: middle;\n",
       "    }\n",
       "\n",
       "    .dataframe tbody tr th {\n",
       "        vertical-align: top;\n",
       "    }\n",
       "\n",
       "    .dataframe thead th {\n",
       "        text-align: right;\n",
       "    }\n",
       "</style>\n",
       "<table border=\"1\" class=\"dataframe\">\n",
       "  <thead>\n",
       "    <tr style=\"text-align: right;\">\n",
       "      <th></th>\n",
       "      <th>Payment Number</th>\n",
       "      <th>Monthly Payment</th>\n",
       "      <th>Total Payment</th>\n",
       "      <th>Regular Amortization</th>\n",
       "      <th>Additional Amortization</th>\n",
       "      <th>Total Amortization</th>\n",
       "      <th>Amortization Type</th>\n",
       "      <th>Interest</th>\n",
       "      <th>Remaining Balance</th>\n",
       "      <th>Accrued Interest</th>\n",
       "      <th>Remaining Months</th>\n",
       "      <th>Remaining Balance (after payment)</th>\n",
       "    </tr>\n",
       "  </thead>\n",
       "  <tbody>\n",
       "    <tr>\n",
       "      <th>0</th>\n",
       "      <td>1</td>\n",
       "      <td>1383.04</td>\n",
       "      <td>2883.04</td>\n",
       "      <td>806.29</td>\n",
       "      <td>1500</td>\n",
       "      <td>2306.29</td>\n",
       "      <td>1500</td>\n",
       "      <td>576.75</td>\n",
       "      <td>382193.71</td>\n",
       "      <td>576.75</td>\n",
       "      <td>357</td>\n",
       "      <td>382193.71</td>\n",
       "    </tr>\n",
       "    <tr>\n",
       "      <th>1</th>\n",
       "      <td>2</td>\n",
       "      <td>1383.04</td>\n",
       "      <td>2883.04</td>\n",
       "      <td>809.75</td>\n",
       "      <td>1500</td>\n",
       "      <td>2309.75</td>\n",
       "      <td>1500</td>\n",
       "      <td>573.29</td>\n",
       "      <td>379883.96</td>\n",
       "      <td>1150.04</td>\n",
       "      <td>354</td>\n",
       "      <td>379883.96</td>\n",
       "    </tr>\n",
       "    <tr>\n",
       "      <th>2</th>\n",
       "      <td>3</td>\n",
       "      <td>1383.04</td>\n",
       "      <td>2883.04</td>\n",
       "      <td>813.21</td>\n",
       "      <td>1500</td>\n",
       "      <td>2313.21</td>\n",
       "      <td>1500</td>\n",
       "      <td>569.83</td>\n",
       "      <td>377570.74</td>\n",
       "      <td>1719.87</td>\n",
       "      <td>351</td>\n",
       "      <td>377570.74</td>\n",
       "    </tr>\n",
       "    <tr>\n",
       "      <th>3</th>\n",
       "      <td>4</td>\n",
       "      <td>1383.04</td>\n",
       "      <td>2883.04</td>\n",
       "      <td>816.68</td>\n",
       "      <td>1500</td>\n",
       "      <td>2316.68</td>\n",
       "      <td>1500</td>\n",
       "      <td>566.36</td>\n",
       "      <td>375254.06</td>\n",
       "      <td>2286.22</td>\n",
       "      <td>349</td>\n",
       "      <td>375254.06</td>\n",
       "    </tr>\n",
       "    <tr>\n",
       "      <th>4</th>\n",
       "      <td>5</td>\n",
       "      <td>1383.04</td>\n",
       "      <td>2883.04</td>\n",
       "      <td>820.16</td>\n",
       "      <td>1500</td>\n",
       "      <td>2320.16</td>\n",
       "      <td>1500</td>\n",
       "      <td>562.88</td>\n",
       "      <td>372933.90</td>\n",
       "      <td>2849.10</td>\n",
       "      <td>346</td>\n",
       "      <td>372933.90</td>\n",
       "    </tr>\n",
       "    <tr>\n",
       "      <th>...</th>\n",
       "      <td>...</td>\n",
       "      <td>...</td>\n",
       "      <td>...</td>\n",
       "      <td>...</td>\n",
       "      <td>...</td>\n",
       "      <td>...</td>\n",
       "      <td>...</td>\n",
       "      <td>...</td>\n",
       "      <td>...</td>\n",
       "      <td>...</td>\n",
       "      <td>...</td>\n",
       "      <td>...</td>\n",
       "    </tr>\n",
       "    <tr>\n",
       "      <th>256</th>\n",
       "      <td>257</td>\n",
       "      <td>1383.04</td>\n",
       "      <td>1383.04</td>\n",
       "      <td>1372.76</td>\n",
       "      <td>0</td>\n",
       "      <td>1372.76</td>\n",
       "      <td>0</td>\n",
       "      <td>10.28</td>\n",
       "      <td>5478.64</td>\n",
       "      <td>66420.11</td>\n",
       "      <td>4</td>\n",
       "      <td>5478.64</td>\n",
       "    </tr>\n",
       "    <tr>\n",
       "      <th>257</th>\n",
       "      <td>258</td>\n",
       "      <td>1383.04</td>\n",
       "      <td>1383.04</td>\n",
       "      <td>1374.82</td>\n",
       "      <td>0</td>\n",
       "      <td>1374.82</td>\n",
       "      <td>0</td>\n",
       "      <td>8.22</td>\n",
       "      <td>4103.82</td>\n",
       "      <td>66428.33</td>\n",
       "      <td>3</td>\n",
       "      <td>4103.82</td>\n",
       "    </tr>\n",
       "    <tr>\n",
       "      <th>258</th>\n",
       "      <td>259</td>\n",
       "      <td>1383.04</td>\n",
       "      <td>1383.04</td>\n",
       "      <td>1376.88</td>\n",
       "      <td>0</td>\n",
       "      <td>1376.88</td>\n",
       "      <td>0</td>\n",
       "      <td>6.16</td>\n",
       "      <td>2726.94</td>\n",
       "      <td>66434.48</td>\n",
       "      <td>2</td>\n",
       "      <td>2726.94</td>\n",
       "    </tr>\n",
       "    <tr>\n",
       "      <th>259</th>\n",
       "      <td>260</td>\n",
       "      <td>1383.04</td>\n",
       "      <td>1383.04</td>\n",
       "      <td>1378.95</td>\n",
       "      <td>0</td>\n",
       "      <td>1378.95</td>\n",
       "      <td>0</td>\n",
       "      <td>4.09</td>\n",
       "      <td>1347.99</td>\n",
       "      <td>66438.57</td>\n",
       "      <td>1</td>\n",
       "      <td>1347.99</td>\n",
       "    </tr>\n",
       "    <tr>\n",
       "      <th>260</th>\n",
       "      <td>261</td>\n",
       "      <td>1383.04</td>\n",
       "      <td>1350.01</td>\n",
       "      <td>1381.02</td>\n",
       "      <td>0</td>\n",
       "      <td>1347.99</td>\n",
       "      <td>0</td>\n",
       "      <td>2.02</td>\n",
       "      <td>0.00</td>\n",
       "      <td>66440.59</td>\n",
       "      <td>0</td>\n",
       "      <td>0.00</td>\n",
       "    </tr>\n",
       "  </tbody>\n",
       "</table>\n",
       "<p>261 rows × 12 columns</p>\n",
       "</div>"
      ],
      "text/plain": [
       "     Payment Number  Monthly Payment  Total Payment  Regular Amortization  \\\n",
       "0                 1          1383.04        2883.04                806.29   \n",
       "1                 2          1383.04        2883.04                809.75   \n",
       "2                 3          1383.04        2883.04                813.21   \n",
       "3                 4          1383.04        2883.04                816.68   \n",
       "4                 5          1383.04        2883.04                820.16   \n",
       "..              ...              ...            ...                   ...   \n",
       "256             257          1383.04        1383.04               1372.76   \n",
       "257             258          1383.04        1383.04               1374.82   \n",
       "258             259          1383.04        1383.04               1376.88   \n",
       "259             260          1383.04        1383.04               1378.95   \n",
       "260             261          1383.04        1350.01               1381.02   \n",
       "\n",
       "     Additional Amortization  Total Amortization  Amortization Type  Interest  \\\n",
       "0                       1500             2306.29               1500    576.75   \n",
       "1                       1500             2309.75               1500    573.29   \n",
       "2                       1500             2313.21               1500    569.83   \n",
       "3                       1500             2316.68               1500    566.36   \n",
       "4                       1500             2320.16               1500    562.88   \n",
       "..                       ...                 ...                ...       ...   \n",
       "256                        0             1372.76                  0     10.28   \n",
       "257                        0             1374.82                  0      8.22   \n",
       "258                        0             1376.88                  0      6.16   \n",
       "259                        0             1378.95                  0      4.09   \n",
       "260                        0             1347.99                  0      2.02   \n",
       "\n",
       "     Remaining Balance  Accrued Interest  Remaining Months  \\\n",
       "0            382193.71            576.75               357   \n",
       "1            379883.96           1150.04               354   \n",
       "2            377570.74           1719.87               351   \n",
       "3            375254.06           2286.22               349   \n",
       "4            372933.90           2849.10               346   \n",
       "..                 ...               ...               ...   \n",
       "256            5478.64          66420.11                 4   \n",
       "257            4103.82          66428.33                 3   \n",
       "258            2726.94          66434.48                 2   \n",
       "259            1347.99          66438.57                 1   \n",
       "260               0.00          66440.59                 0   \n",
       "\n",
       "     Remaining Balance (after payment)  \n",
       "0                            382193.71  \n",
       "1                            379883.96  \n",
       "2                            377570.74  \n",
       "3                            375254.06  \n",
       "4                            372933.90  \n",
       "..                                 ...  \n",
       "256                            5478.64  \n",
       "257                            4103.82  \n",
       "258                            2726.94  \n",
       "259                            1347.99  \n",
       "260                               0.00  \n",
       "\n",
       "[261 rows x 12 columns]"
      ]
     },
     "execution_count": 22,
     "metadata": {},
     "output_type": "execute_result"
    }
   ],
   "source": [
    "mortgage_extra = MortgageCalculator(house_price, down_payment, interest_rate, loan_term_years, cost, taxes, amortization_schedule_df=amortization_df)\n",
    "mortgage_extra.run()\n",
    "mortgage_extra.get_amortization_schedule()"
   ]
  },
  {
   "cell_type": "code",
   "execution_count": 23,
   "id": "da90ddea",
   "metadata": {},
   "outputs": [
    {
     "data": {
      "text/html": [
       "<div>\n",
       "<style scoped>\n",
       "    .dataframe tbody tr th:only-of-type {\n",
       "        vertical-align: middle;\n",
       "    }\n",
       "\n",
       "    .dataframe tbody tr th {\n",
       "        vertical-align: top;\n",
       "    }\n",
       "\n",
       "    .dataframe thead th {\n",
       "        text-align: right;\n",
       "    }\n",
       "</style>\n",
       "<table border=\"1\" class=\"dataframe\">\n",
       "  <thead>\n",
       "    <tr style=\"text-align: right;\">\n",
       "      <th></th>\n",
       "      <th>Payment Number</th>\n",
       "      <th>Monthly Payment</th>\n",
       "      <th>Total Payment</th>\n",
       "      <th>Regular Amortization</th>\n",
       "      <th>Additional Amortization</th>\n",
       "      <th>Total Amortization</th>\n",
       "      <th>Amortization Type</th>\n",
       "      <th>Interest</th>\n",
       "      <th>Remaining Balance</th>\n",
       "      <th>Accrued Interest</th>\n",
       "      <th>Remaining Months</th>\n",
       "      <th>Remaining Balance (after payment)</th>\n",
       "    </tr>\n",
       "  </thead>\n",
       "  <tbody>\n",
       "    <tr>\n",
       "      <th>0</th>\n",
       "      <td>1</td>\n",
       "      <td>1383.04</td>\n",
       "      <td>1383.04</td>\n",
       "      <td>806.29</td>\n",
       "      <td>0</td>\n",
       "      <td>806.29</td>\n",
       "      <td>0</td>\n",
       "      <td>576.75</td>\n",
       "      <td>383693.71</td>\n",
       "      <td>576.75</td>\n",
       "      <td>359</td>\n",
       "      <td>383693.71</td>\n",
       "    </tr>\n",
       "    <tr>\n",
       "      <th>1</th>\n",
       "      <td>2</td>\n",
       "      <td>1383.04</td>\n",
       "      <td>1383.04</td>\n",
       "      <td>807.50</td>\n",
       "      <td>0</td>\n",
       "      <td>807.50</td>\n",
       "      <td>0</td>\n",
       "      <td>575.54</td>\n",
       "      <td>382886.21</td>\n",
       "      <td>1152.29</td>\n",
       "      <td>358</td>\n",
       "      <td>382886.21</td>\n",
       "    </tr>\n",
       "    <tr>\n",
       "      <th>2</th>\n",
       "      <td>3</td>\n",
       "      <td>1383.04</td>\n",
       "      <td>1383.04</td>\n",
       "      <td>808.71</td>\n",
       "      <td>0</td>\n",
       "      <td>808.71</td>\n",
       "      <td>0</td>\n",
       "      <td>574.33</td>\n",
       "      <td>382077.50</td>\n",
       "      <td>1726.62</td>\n",
       "      <td>357</td>\n",
       "      <td>382077.50</td>\n",
       "    </tr>\n",
       "    <tr>\n",
       "      <th>3</th>\n",
       "      <td>4</td>\n",
       "      <td>1383.04</td>\n",
       "      <td>1383.04</td>\n",
       "      <td>809.92</td>\n",
       "      <td>0</td>\n",
       "      <td>809.92</td>\n",
       "      <td>0</td>\n",
       "      <td>573.12</td>\n",
       "      <td>381267.57</td>\n",
       "      <td>2299.74</td>\n",
       "      <td>356</td>\n",
       "      <td>381267.57</td>\n",
       "    </tr>\n",
       "    <tr>\n",
       "      <th>4</th>\n",
       "      <td>5</td>\n",
       "      <td>1383.04</td>\n",
       "      <td>1383.04</td>\n",
       "      <td>811.14</td>\n",
       "      <td>0</td>\n",
       "      <td>811.14</td>\n",
       "      <td>0</td>\n",
       "      <td>571.90</td>\n",
       "      <td>380456.43</td>\n",
       "      <td>2871.64</td>\n",
       "      <td>355</td>\n",
       "      <td>380456.43</td>\n",
       "    </tr>\n",
       "    <tr>\n",
       "      <th>...</th>\n",
       "      <td>...</td>\n",
       "      <td>...</td>\n",
       "      <td>...</td>\n",
       "      <td>...</td>\n",
       "      <td>...</td>\n",
       "      <td>...</td>\n",
       "      <td>...</td>\n",
       "      <td>...</td>\n",
       "      <td>...</td>\n",
       "      <td>...</td>\n",
       "      <td>...</td>\n",
       "      <td>...</td>\n",
       "    </tr>\n",
       "    <tr>\n",
       "      <th>355</th>\n",
       "      <td>356</td>\n",
       "      <td>1383.04</td>\n",
       "      <td>1383.04</td>\n",
       "      <td>1372.71</td>\n",
       "      <td>0</td>\n",
       "      <td>1372.71</td>\n",
       "      <td>0</td>\n",
       "      <td>10.33</td>\n",
       "      <td>5511.48</td>\n",
       "      <td>113373.97</td>\n",
       "      <td>4</td>\n",
       "      <td>5511.48</td>\n",
       "    </tr>\n",
       "    <tr>\n",
       "      <th>356</th>\n",
       "      <td>357</td>\n",
       "      <td>1383.04</td>\n",
       "      <td>1383.04</td>\n",
       "      <td>1374.77</td>\n",
       "      <td>0</td>\n",
       "      <td>1374.77</td>\n",
       "      <td>0</td>\n",
       "      <td>8.27</td>\n",
       "      <td>4136.71</td>\n",
       "      <td>113382.24</td>\n",
       "      <td>3</td>\n",
       "      <td>4136.71</td>\n",
       "    </tr>\n",
       "    <tr>\n",
       "      <th>357</th>\n",
       "      <td>358</td>\n",
       "      <td>1383.04</td>\n",
       "      <td>1383.04</td>\n",
       "      <td>1376.84</td>\n",
       "      <td>0</td>\n",
       "      <td>1376.84</td>\n",
       "      <td>0</td>\n",
       "      <td>6.21</td>\n",
       "      <td>2759.87</td>\n",
       "      <td>113388.45</td>\n",
       "      <td>2</td>\n",
       "      <td>2759.87</td>\n",
       "    </tr>\n",
       "    <tr>\n",
       "      <th>358</th>\n",
       "      <td>359</td>\n",
       "      <td>1383.04</td>\n",
       "      <td>1383.04</td>\n",
       "      <td>1378.90</td>\n",
       "      <td>0</td>\n",
       "      <td>1378.90</td>\n",
       "      <td>0</td>\n",
       "      <td>4.14</td>\n",
       "      <td>1380.97</td>\n",
       "      <td>113392.59</td>\n",
       "      <td>1</td>\n",
       "      <td>1380.97</td>\n",
       "    </tr>\n",
       "    <tr>\n",
       "      <th>359</th>\n",
       "      <td>360</td>\n",
       "      <td>1383.04</td>\n",
       "      <td>1383.04</td>\n",
       "      <td>1380.97</td>\n",
       "      <td>0</td>\n",
       "      <td>1380.97</td>\n",
       "      <td>0</td>\n",
       "      <td>2.07</td>\n",
       "      <td>0.00</td>\n",
       "      <td>113394.66</td>\n",
       "      <td>0</td>\n",
       "      <td>0.00</td>\n",
       "    </tr>\n",
       "  </tbody>\n",
       "</table>\n",
       "<p>360 rows × 12 columns</p>\n",
       "</div>"
      ],
      "text/plain": [
       "     Payment Number  Monthly Payment  Total Payment  Regular Amortization  \\\n",
       "0                 1          1383.04        1383.04                806.29   \n",
       "1                 2          1383.04        1383.04                807.50   \n",
       "2                 3          1383.04        1383.04                808.71   \n",
       "3                 4          1383.04        1383.04                809.92   \n",
       "4                 5          1383.04        1383.04                811.14   \n",
       "..              ...              ...            ...                   ...   \n",
       "355             356          1383.04        1383.04               1372.71   \n",
       "356             357          1383.04        1383.04               1374.77   \n",
       "357             358          1383.04        1383.04               1376.84   \n",
       "358             359          1383.04        1383.04               1378.90   \n",
       "359             360          1383.04        1383.04               1380.97   \n",
       "\n",
       "     Additional Amortization  Total Amortization  Amortization Type  Interest  \\\n",
       "0                          0              806.29                  0    576.75   \n",
       "1                          0              807.50                  0    575.54   \n",
       "2                          0              808.71                  0    574.33   \n",
       "3                          0              809.92                  0    573.12   \n",
       "4                          0              811.14                  0    571.90   \n",
       "..                       ...                 ...                ...       ...   \n",
       "355                        0             1372.71                  0     10.33   \n",
       "356                        0             1374.77                  0      8.27   \n",
       "357                        0             1376.84                  0      6.21   \n",
       "358                        0             1378.90                  0      4.14   \n",
       "359                        0             1380.97                  0      2.07   \n",
       "\n",
       "     Remaining Balance  Accrued Interest  Remaining Months  \\\n",
       "0            383693.71            576.75               359   \n",
       "1            382886.21           1152.29               358   \n",
       "2            382077.50           1726.62               357   \n",
       "3            381267.57           2299.74               356   \n",
       "4            380456.43           2871.64               355   \n",
       "..                 ...               ...               ...   \n",
       "355            5511.48         113373.97                 4   \n",
       "356            4136.71         113382.24                 3   \n",
       "357            2759.87         113388.45                 2   \n",
       "358            1380.97         113392.59                 1   \n",
       "359               0.00         113394.66                 0   \n",
       "\n",
       "     Remaining Balance (after payment)  \n",
       "0                            383693.71  \n",
       "1                            382886.21  \n",
       "2                            382077.50  \n",
       "3                            381267.57  \n",
       "4                            380456.43  \n",
       "..                                 ...  \n",
       "355                            5511.48  \n",
       "356                            4136.71  \n",
       "357                            2759.87  \n",
       "358                            1380.97  \n",
       "359                               0.00  \n",
       "\n",
       "[360 rows x 12 columns]"
      ]
     },
     "execution_count": 23,
     "metadata": {},
     "output_type": "execute_result"
    }
   ],
   "source": [
    "mortgage.get_amortization_schedule()"
   ]
  },
  {
   "cell_type": "code",
   "execution_count": 24,
   "id": "ae7f0573",
   "metadata": {},
   "outputs": [],
   "source": [
    "graphical_data = pd.DataFrame(mortgage_extra.get_amortization_schedule()).iloc[0::12]"
   ]
  },
  {
   "cell_type": "code",
   "execution_count": 26,
   "id": "37479c8b",
   "metadata": {},
   "outputs": [],
   "source": [
    "params = {\n",
    "    'color_side': \"#212121\",\n",
    "    'color_bg': \"#616161\",\n",
    "    'color_box': \"#e0e0e0\",\n",
    "    'color_line': \"#FFFFFF\",\n",
    "    'color_text': \"#FFFFFF\",\n",
    "    'color_text_second': \"#707070\",\n",
    "    'color_text_third': \"#202020\",\n",
    "    'color_bar_price_1': \"#D1E3F8\",\n",
    "    'color_bar_price_2': \"#7AA9F7\",\n",
    "    'color_bar_price_3': \"#2E5CB8\",\n",
    "    'color_bar_interest_1': \"#f8d1d1\",\n",
    "    'color_bar_interest_2': \"#f89696\",\n",
    "    'color_bar_interest_3': \"#fa4f4f\",\n",
    "    'box_width': \"400px\",\n",
    "    'box_gap': \"32px\"\n",
    "}"
   ]
  },
  {
   "cell_type": "code",
   "execution_count": 27,
   "id": "62f7a986",
   "metadata": {},
   "outputs": [],
   "source": [
    "import plotly.io as pio\n",
    "import plotly.graph_objects as go\n",
    "from plotly.subplots import make_subplots\n",
    "\n",
    "pio.templates[\"Streamlit\"] = go.layout.Template(\n",
    "            layout=go.Layout(\n",
    "                font=dict(size=16, color=params['color_text']),\n",
    "                title_font=dict(size=22, color=params['color_text']),\n",
    "                width=800,\n",
    "                height=500,\n",
    "                plot_bgcolor=params['color_bg'],\n",
    "                paper_bgcolor=params['color_bg'],\n",
    "                legend_title_text='',\n",
    "                legend=dict(\n",
    "                    font=dict(size=14, color=params['color_text_third']),\n",
    "                    title_text='',\n",
    "                    bgcolor=params['color_box'],\n",
    "                    bordercolor=params['color_line'],\n",
    "                    borderwidth=2,\n",
    "                    xanchor=\"right\",\n",
    "                    yanchor=\"top\",\n",
    "                    orientation=\"v\"\n",
    "                ),\n",
    "                xaxis=dict(\n",
    "                    tickfont=dict(size=14),\n",
    "                    title_font=dict(size=18),\n",
    "                ),\n",
    "                yaxis=dict(\n",
    "                    tickfont=dict(size=14),\n",
    "                    title_font=dict(size=18),\n",
    "                    gridcolor=params['color_line'],\n",
    "                ),\n",
    "                # colorway=[\"#4A90E2\", \"#50E3C2\", \"#B82E2E\"],  # Custom color palette\n",
    "                colorway=[\"#4A90E2\", \"#3ECAAC\", \"#EC6161\"],  # Custom color palette\n",
    "                # colorway=[color_bar_interest_3, color_bar_price_2, \"#50E3C2\",],  # Custom color palette\n",
    "            )\n",
    "        )\n",
    "\n",
    "pio.templates.default = \"Streamlit\""
   ]
  },
  {
   "cell_type": "code",
   "execution_count": 28,
   "id": "7a54f464",
   "metadata": {},
   "outputs": [
    {
     "data": {
      "application/vnd.plotly.v1+json": {
       "config": {
        "plotlyServerURL": "https://plot.ly"
       },
       "data": [
        {
         "name": "Interest",
         "showlegend": true,
         "type": "bar",
         "x": {
          "bdata": "AQANABkAJQAxAD0ASQBVAGEAbQB5AIUAkQCdAKkAtQDBAM0A2QDlAPEA/QAJARUBIQEtATkBRQFRAV0B",
          "dtype": "i2"
         },
         "xaxis": "x",
         "y": {
          "bdata": "AAAAAAAGgkApXI/C9ZCBQPYoXI/CGYFAZmZmZmaggEDNzMzMzCSAQK5H4XoUTn9AUrgehetNfkCF61G4Hkl9QOxRuB6FP3xAhetRuB4xe0BSuB6F6x16QJqZmZmZBXlAXI/C9Sjod0CamZmZmcV2QFK4HoXrnXVAcT0K16NwdECuR+F6FD5zQPYoXI/CBXJAAAAAAADIcEBxPQrXowhvQD0K16NwdWxAZmZmZmbWaUAzMzMzMytnQKRwPQrXc2RAj8L1KFyvYUDNzMzMzLxdQHE9CtejAFhAmpmZmZkpUkCPwvUoXG9IQGZmZmZmpjhA",
          "dtype": "f8"
         },
         "yaxis": "y"
        },
        {
         "name": "Regular Amortization",
         "showlegend": true,
         "type": "bar",
         "x": {
          "bdata": "AQANABkAJQAxAD0ASQBVAGEAbQB5AIUAkQCdAKkAtQDBAM0A2QDlAPEA/QAJARUBIQEtATkBRQFRAV0B",
          "dtype": "i2"
         },
         "xaxis": "x",
         "y": {
          "bdata": "uB6F61EyiUCPwvUoXKeJQMP1KFyPHopAUrgeheuXikDsUbgehROLQOF6FK5HkYtAj8L1KFwRjED2KFyPwpOMQMP1KFyPGI1A9ihcj8KfjUA9CtejcCmOQOxRuB6FtY5ACtejcD1Ej0DsUbgehdWPQEjhehSuNJBAAAAAAACAkEBxPQrXo8yQQB+F61G4GpFAMzMzMzNqkUCuR+F6FLuRQBSuR+F6DZJAj8L1KFxhkkD2KFyPwraSQEjhehSuDZNACtejcD1mk0CPwvUoXMCTQIXrUbgeHJRAw/UoXI95lEBI4XoUrtiUQMP1KFyPOZVA",
          "dtype": "f8"
         },
         "yaxis": "y"
        },
        {
         "name": "Additional Amortization",
         "showlegend": true,
         "type": "bar",
         "x": {
          "bdata": "AQANABkAJQAxAD0ASQBVAGEAbQB5AIUAkQCdAKkAtQDBAM0A2QDlAPEA/QAJARUBIQEtATkBRQFRAV0B",
          "dtype": "i2"
         },
         "xaxis": "x",
         "y": {
          "bdata": "AAAAAAAAAAAAAAAAAAAAAAAAAAAAAAAAAAAAAAAA",
          "dtype": "i1"
         },
         "yaxis": "y"
        },
        {
         "name": "Interest",
         "showlegend": false,
         "type": "bar",
         "x": {
          "bdata": "AQANABkAJQAxAD0ASQBVAGEAbQB5AIUAkQCdAKkAtQDBAM0A2QDlAPEA/QA=",
          "dtype": "i2"
         },
         "xaxis": "x2",
         "y": {
          "bdata": "AAAAAAAGgkCF61G4HreAQBSuR+F6xH5ArkfhehQOfECPwvUoXEt5QEjhehSue3ZAZmZmZmZSdUAAAAAAACR0QKRwPQrX73JACtejcD22cUB7FK5H4XZwQOxRuB6FY25APQrXo3DNa0DsUbgehStpQIXrUbgefWZAw/UoXI/CY0B7FK5H4fpgQD0K16NwTVxACtejcD2KVkDNzMzMzKxQQEjhehSuZ0VAexSuR+F6MkA=",
          "dtype": "f8"
         },
         "yaxis": "y2"
        },
        {
         "name": "Regular Amortization",
         "showlegend": false,
         "type": "bar",
         "x": {
          "bdata": "AQANABkAJQAxAD0ASQBVAGEAbQB5AIUAkQCdAKkAtQDBAM0A2QDlAPEA/QA=",
          "dtype": "i2"
         },
         "xaxis": "x2",
         "y": {
          "bdata": "uB6F61EyiUAzMzMzM4GKQFyPwvUo1otA4XoUrkcxjUBxPQrXo5KOQBSuR+F6+o9Aw/UoXI9HkEAzMzMzM5OQQDMzMzMz4JBAmpmZmZkukUA9CtejcH6RQB+F61G4z5FAFK5H4XoikkAfhetRuHaSQOxRuB6FzJJApHA9Ctcjk0DNzMzMzHyTQLgehetR15NA7FG4HoUzlECPwvUoXJGUQFK4HoXr8JRACtejcD1SlUA=",
          "dtype": "f8"
         },
         "yaxis": "y2"
        },
        {
         "name": "Additional Amortization",
         "showlegend": false,
         "type": "bar",
         "x": {
          "bdata": "AQANABkAJQAxAD0ASQBVAGEAbQB5AIUAkQCdAKkAtQDBAM0A2QDlAPEA/QA=",
          "dtype": "i2"
         },
         "xaxis": "x2",
         "y": {
          "bdata": "3AXcBdwF3AXcBQAAAAAAAAAAAAAAAAAAAAAAAAAAAAAAAAAAAAAAAAAAAAA=",
          "dtype": "i2"
         },
         "yaxis": "y2"
        }
       ],
       "layout": {
        "annotations": [
         {
          "font": {
           "size": 18
          },
          "showarrow": false,
          "text": "Payment (€)",
          "textangle": -90,
          "x": -0.08,
          "xanchor": "center",
          "xref": "paper",
          "y": 0.5,
          "yanchor": "middle",
          "yref": "paper"
         }
        ],
        "barmode": "stack",
        "height": 600,
        "legend": {
         "bgcolor": "#e0e0e0",
         "font": {
          "color": "black",
          "size": 14
         },
         "orientation": "h",
         "title": {
          "text": ""
         },
         "x": 0.5,
         "xanchor": "center",
         "y": 1,
         "yanchor": "bottom"
        },
        "template": {
         "layout": {
          "colorway": [
           "#4A90E2",
           "#3ECAAC",
           "#EC6161"
          ],
          "font": {
           "color": "#FFFFFF",
           "size": 16
          },
          "height": 500,
          "legend": {
           "bgcolor": "#e0e0e0",
           "bordercolor": "#FFFFFF",
           "borderwidth": 2,
           "font": {
            "color": "#202020",
            "size": 14
           },
           "orientation": "v",
           "title": {
            "text": ""
           },
           "xanchor": "right",
           "yanchor": "top"
          },
          "paper_bgcolor": "#616161",
          "plot_bgcolor": "#616161",
          "title": {
           "font": {
            "color": "#FFFFFF",
            "size": 22
           }
          },
          "width": 800,
          "xaxis": {
           "tickfont": {
            "size": 14
           },
           "title": {
            "font": {
             "size": 18
            }
           }
          },
          "yaxis": {
           "gridcolor": "#FFFFFF",
           "tickfont": {
            "size": 14
           },
           "title": {
            "font": {
             "size": 18
            }
           }
          }
         }
        },
        "width": 900,
        "xaxis": {
         "anchor": "y",
         "domain": [
          0,
          1
         ],
         "matches": "x2",
         "range": [
          -10,
          360
         ],
         "showticklabels": false,
         "title": {
          "text": ""
         }
        },
        "xaxis2": {
         "anchor": "y2",
         "domain": [
          0,
          1
         ],
         "range": [
          -10,
          360
         ],
         "title": {
          "text": "Month"
         }
        },
        "yaxis": {
         "anchor": "x",
         "domain": [
          0.525,
          1
         ],
         "range": [
          -10,
          3171.344
         ],
         "title": {
          "text": ""
         }
        },
        "yaxis2": {
         "anchor": "x2",
         "domain": [
          0,
          0.475
         ],
         "range": [
          -10,
          3171.344
         ]
        }
       }
      }
     },
     "metadata": {},
     "output_type": "display_data"
    }
   ],
   "source": [
    "from GraphicClass import GraphicClass\n",
    "graphics = GraphicClass(mortgage, mortgage_extra, params)\n",
    "bars = graphics.monthly_payment_graph()\n",
    "bars.show()"
   ]
  },
  {
   "cell_type": "code",
   "execution_count": 29,
   "id": "12a1ba0f",
   "metadata": {},
   "outputs": [],
   "source": [
    "data = mortgage.get_amortization_schedule().iloc[::12]\n",
    "data_enhanced = mortgage_extra.get_amortization_schedule().iloc[::12]"
   ]
  },
  {
   "cell_type": "code",
   "execution_count": 30,
   "id": "c37b15d3",
   "metadata": {},
   "outputs": [],
   "source": [
    "fig = make_subplots(rows=1, cols=2, \n",
    "                    vertical_spacing=0.05,\n",
    "                    )"
   ]
  },
  {
   "cell_type": "code",
   "execution_count": 32,
   "id": "1d722210",
   "metadata": {},
   "outputs": [
    {
     "data": {
      "application/vnd.plotly.v1+json": {
       "config": {
        "plotlyServerURL": "https://plot.ly"
       },
       "data": [
        {
         "labels": [
          "House Price",
          "Taxes",
          "Interest",
          "Additional Costs"
         ],
         "type": "pie",
         "values": [
          425000,
          6,
          113394.65757454663,
          2000
         ]
        }
       ],
       "layout": {
        "template": {
         "layout": {
          "colorway": [
           "#4A90E2",
           "#3ECAAC",
           "#EC6161"
          ],
          "font": {
           "color": "#FFFFFF",
           "size": 16
          },
          "height": 500,
          "legend": {
           "bgcolor": "#e0e0e0",
           "bordercolor": "#FFFFFF",
           "borderwidth": 2,
           "font": {
            "color": "#202020",
            "size": 14
           },
           "orientation": "v",
           "title": {
            "text": ""
           },
           "xanchor": "right",
           "yanchor": "top"
          },
          "paper_bgcolor": "#616161",
          "plot_bgcolor": "#616161",
          "title": {
           "font": {
            "color": "#FFFFFF",
            "size": 22
           }
          },
          "width": 800,
          "xaxis": {
           "tickfont": {
            "size": 14
           },
           "title": {
            "font": {
             "size": 18
            }
           }
          },
          "yaxis": {
           "gridcolor": "#FFFFFF",
           "tickfont": {
            "size": 14
           },
           "title": {
            "font": {
             "size": 18
            }
           }
          }
         }
        }
       }
      }
     },
     "metadata": {},
     "output_type": "display_data"
    }
   ],
   "source": [
    "pie_data = {\n",
    "    'House Price': mortgage.house_price,\n",
    "    'Taxes': mortgage.taxes,\n",
    "    'Interest': mortgage.total_interest_paid,\n",
    "    'Additional Costs': mortgage.cost,\n",
    "}\n",
    "\n",
    "fig = go.Figure(data=[go.Pie(labels=list(pie_data.keys()), values=list(pie_data.values()))])\n",
    "fig.show()"
   ]
  },
  {
   "cell_type": "code",
   "execution_count": 36,
   "id": "3492a3e8",
   "metadata": {},
   "outputs": [
    {
     "name": "stdout",
     "output_type": "stream",
     "text": [
      "APR: 1.99%\n"
     ]
    }
   ],
   "source": [
    "def calculate_apr(loan_amount, annual_nominal_rate, term_months, initial_fees=0.0):\n",
    "    \"\"\"\n",
    "    Calculates the APR (Annual Percentage Rate) of a loan with a fixed amount, initial fees, and periodic payments.\n",
    "    \n",
    "    :param loan_amount: The amount you need (for example, to buy a house)\n",
    "    :param annual_nominal_rate: Annual nominal interest rate (e.g., 0.035 for 3.5%)\n",
    "    :param term_months: Loan term in months (e.g., 240 for 20 years)\n",
    "    :param initial_fees: Upfront fees and commissions (default is 0)\n",
    "    :return: APR as a decimal (multiply by 100 for percentage)\n",
    "    \"\"\"\n",
    "    # Calculate monthly nominal interest rate\n",
    "    monthly_rate = annual_nominal_rate / 12\n",
    "    \n",
    "    # Calculate monthly payment (French amortization system)\n",
    "    payment = loan_amount * (monthly_rate * (1 + monthly_rate) ** term_months) / ((1 + monthly_rate) ** term_months - 1)\n",
    "    \n",
    "    # Initial cash flow: what you actually receive (loan amount minus initial fees)\n",
    "    initial_cash_flow = loan_amount - initial_fees\n",
    "    \n",
    "    # Cash flows: positive initial inflow, then negative monthly payments\n",
    "    cash_flows = [initial_cash_flow] + [-payment] * term_months\n",
    "    \n",
    "    # Calculate monthly IRR and annualize to get APR\n",
    "    monthly_irr = npf.irr(cash_flows)\n",
    "    apr = (1 + monthly_irr) ** 12 - 1\n",
    "    \n",
    "    return apr\n",
    "\n",
    "import numpy_financial as npf\n",
    "\n",
    "# Example usage:\n",
    "loan_amount = 425000        # €425,000\n",
    "annual_nominal_rate = 0.018 # 1.8% nominal interest\n",
    "term_months = 360           # 30 years\n",
    "initial_fees = 10000         # €3,000 in fees and commissions\n",
    "\n",
    "apr = calculate_apr(loan_amount, annual_nominal_rate, term_months, initial_fees)\n",
    "print(f\"APR: {apr*100:.2f}%\")"
   ]
  },
  {
   "cell_type": "code",
   "execution_count": null,
   "id": "dd75be8c",
   "metadata": {},
   "outputs": [
    {
     "name": "stdout",
     "output_type": "stream",
     "text": [
      "APR: 1.81%\n"
     ]
    },
    {
     "ename": "",
     "evalue": "",
     "output_type": "error",
     "traceback": [
      "\u001b[1;31mThe Kernel crashed while executing code in the current cell or a previous cell. \n",
      "\u001b[1;31mPlease review the code in the cell(s) to identify a possible cause of the failure. \n",
      "\u001b[1;31mClick <a href='https://aka.ms/vscodeJupyterKernelCrash'>here</a> for more info. \n",
      "\u001b[1;31mView Jupyter <a href='command:jupyter.viewOutput'>log</a> for further details."
     ]
    }
   ],
   "source": [
    "params = {\n",
    "    \"house_price\": 425000,\n",
    "    \"down_payment\": 70000,\n",
    "    \"interest_rate\": 1.8,         # 1.8% as a percentage\n",
    "    \"loan_term_years\": 30,\n",
    "    \"cost\": 10000,\n",
    "    \"taxes\": 6.0               # 6.0% as a percentage\n",
    "}\n",
    "\n",
    "\n",
    "mortgage = MortgageCalculator(**params)\n",
    "apr = mortgage.calculate_apr()\n",
    "print(f\"APR: {apr*100:.2f}%\")\n",
    "\n"
   ]
  },
  {
   "cell_type": "code",
   "execution_count": null,
   "id": "4ca32984",
   "metadata": {},
   "outputs": [],
   "source": []
  }
 ],
 "metadata": {
  "kernelspec": {
   "display_name": "github-env",
   "language": "python",
   "name": "python3"
  },
  "language_info": {
   "codemirror_mode": {
    "name": "ipython",
    "version": 3
   },
   "file_extension": ".py",
   "mimetype": "text/x-python",
   "name": "python",
   "nbconvert_exporter": "python",
   "pygments_lexer": "ipython3",
   "version": "3.12.7"
  }
 },
 "nbformat": 4,
 "nbformat_minor": 5
}
